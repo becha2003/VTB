{
 "cells": [
  {
   "cell_type": "code",
   "execution_count": 1,
   "metadata": {},
   "outputs": [],
   "source": [
    "import pandas as pd"
   ]
  },
  {
   "cell_type": "code",
   "execution_count": 2,
   "metadata": {},
   "outputs": [],
   "source": [
    "from sklearn.linear_model import LogisticRegression\n",
    "from sklearn.svm import LinearSVC\n",
    "from sklearn.model_selection import cross_val_score\n",
    "from sklearn.feature_extraction.text import TfidfVectorizer\n",
    "from nltk.corpus import stopwords \n",
    "\n",
    "from sklearn.metrics import f1_score, make_scorer\n",
    "import numpy as np\n",
    "\n",
    "# отключение предупреждений\n",
    "import warnings; warnings.filterwarnings(\"ignore\", category=Warning)"
   ]
  },
  {
   "cell_type": "code",
   "execution_count": 3,
   "metadata": {},
   "outputs": [],
   "source": [
    "from collections import Counter\n",
    "import re\n",
    "import pymorphy2"
   ]
  },
  {
   "cell_type": "code",
   "execution_count": 4,
   "metadata": {},
   "outputs": [],
   "source": [
    "import nltk\n",
    "#nltk.download('stopwords')"
   ]
  },
  {
   "cell_type": "code",
   "execution_count": 5,
   "metadata": {},
   "outputs": [],
   "source": [
    "from nltk import word_tokenize\n",
    "import nltk\n",
    "#nltk.download('punkt')"
   ]
  },
  {
   "cell_type": "code",
   "execution_count": 6,
   "metadata": {},
   "outputs": [],
   "source": [
    "from sklearn.dummy import DummyClassifier\n",
    "from sklearn.tree import DecisionTreeClassifier\n",
    "from sklearn.ensemble import RandomForestClassifier\n",
    "from sklearn.neighbors import KNeighborsClassifier\n",
    "from sklearn.ensemble import GradientBoostingClassifier\n",
    "#from catboost import CatBoostClassifie"
   ]
  },
  {
   "cell_type": "markdown",
   "metadata": {},
   "source": [
    "# грузим сет"
   ]
  },
  {
   "cell_type": "code",
   "execution_count": null,
   "metadata": {},
   "outputs": [],
   "source": [
    "# исходный сет \n",
    "# train = pd.read_parquet('data_fusion_train.parquet')"
   ]
  },
  {
   "cell_type": "markdown",
   "metadata": {},
   "source": [
    "# удаляем лишнее"
   ]
  },
  {
   "cell_type": "code",
   "execution_count": null,
   "metadata": {},
   "outputs": [],
   "source": [
    "#train = train.drop(['receipt_id', 'receipt_dayofweek', 'receipt_time','brands'], axis='columns')"
   ]
  },
  {
   "attachments": {
    "3391db40-bc92-404c-b817-4b55be6354a7.png": {
     "image/png": "[encoded data removed]"
    }
   },
   "cell_type": "markdown",
   "metadata": {},
   "source": [
    "![image.png](attachment:3391db40-bc92-404c-b817-4b55be6354a7.png)\n",
    "\n",
    "из 26 млн - 18.9 полные дубликаты по item_quantity - item_price - item_nds_rate - category_id"
   ]
  },
  {
   "cell_type": "code",
   "execution_count": null,
   "metadata": {},
   "outputs": [],
   "source": [
    "# train_no_dublic= train.drop_duplicates().reset_index(drop=True)"
   ]
  },
  {
   "cell_type": "code",
   "execution_count": null,
   "metadata": {},
   "outputs": [],
   "source": [
    "# train_no_dublic.to_parquet('data_fusion_train_no_dubl')"
   ]
  },
  {
   "cell_type": "code",
   "execution_count": null,
   "metadata": {},
   "outputs": [],
   "source": [
    "# train_no_dublic.item_name = train_no_dublic.item_name.str.lower()"
   ]
  },
  {
   "cell_type": "code",
   "execution_count": null,
   "metadata": {},
   "outputs": [],
   "source": [
    "# print(train_no_dublic.duplicated().sum())\n",
    "# было порядка 34 тыс после перевода в нижний"
   ]
  },
  {
   "cell_type": "code",
   "execution_count": null,
   "metadata": {},
   "outputs": [],
   "source": [
    "# train_no_dublic_low= train_no_dublic.drop_duplicates().reset_index(drop=True)"
   ]
  },
  {
   "cell_type": "code",
   "execution_count": null,
   "metadata": {},
   "outputs": [],
   "source": [
    "# train_no_dublic_low.to_parquet('data_fusion_train_no_dubl_low')"
   ]
  },
  {
   "cell_type": "markdown",
   "metadata": {},
   "source": [
    "## грузим сет - без дубликатов и в нижнем регистре"
   ]
  },
  {
   "cell_type": "code",
   "execution_count": null,
   "metadata": {},
   "outputs": [],
   "source": [
    "# сет для анализа \n",
    "#train = pd.read_parquet('data_fusion_train_no_dubl_low')"
   ]
  },
  {
   "cell_type": "markdown",
   "metadata": {},
   "source": [
    "## удаляем символы ненужные"
   ]
  },
  {
   "cell_type": "code",
   "execution_count": null,
   "metadata": {},
   "outputs": [],
   "source": [
    "# удаляем ненужные знаки\n",
    "\n",
    "# remove = [\",\", \".\", \"*\", '\"', \"№\", \")\", \"(\", \"%\", '/', '+','-','#',':',';','@','$','^','&','=']\n",
    "# train['item_name_clean'] = train['item_name'].str.replace(r\"[{}]+\".format(\" \".join([re.escape(x) for x in remove])),\" \", regex=True)"
   ]
  },
  {
   "cell_type": "code",
   "execution_count": null,
   "metadata": {},
   "outputs": [],
   "source": [
    "# удаляем цифры\n",
    "\n",
    "# train['item_name_clean'] = train['item_name_clean'].apply(\n",
    "#     lambda x:''.join(ch for ch in x if ch.isalpha() or ch.isspace())\n",
    "# )"
   ]
  },
  {
   "cell_type": "code",
   "execution_count": null,
   "metadata": {},
   "outputs": [],
   "source": [
    "# проверяем наличие дубликатов\n",
    "\n",
    "#print(train.duplicated().sum())\n",
    "# нет дубликатов"
   ]
  },
  {
   "cell_type": "code",
   "execution_count": null,
   "metadata": {},
   "outputs": [],
   "source": [
    "# сохраняем сет без цифр и знаков препинаний и спец знаков\n",
    "\n",
    "#train.to_parquet('data_fusion_train_no_dubl_low_wo_simb')"
   ]
  },
  {
   "cell_type": "markdown",
   "metadata": {},
   "source": [
    "## tokenizing"
   ]
  },
  {
   "cell_type": "code",
   "execution_count": null,
   "metadata": {},
   "outputs": [],
   "source": [
    "# train = pd.read_parquet('data_fusion_train_no_dubl_low_wo_simb')"
   ]
  },
  {
   "cell_type": "code",
   "execution_count": null,
   "metadata": {},
   "outputs": [],
   "source": [
    "# %%time\n",
    "# train['item_name_token'] = train.apply(lambda x: nltk.word_tokenize(x['item_name_clean']), axis=1)"
   ]
  },
  {
   "cell_type": "code",
   "execution_count": null,
   "metadata": {},
   "outputs": [],
   "source": [
    "#train.to_parquet('data_fusion_train_no_dubl_low_wo_simb_token')"
   ]
  },
  {
   "cell_type": "code",
   "execution_count": null,
   "metadata": {},
   "outputs": [],
   "source": [
    "#train = pd.read_parquet('data_fusion_train_no_dubl_low_wo_simb_token')"
   ]
  },
  {
   "cell_type": "markdown",
   "metadata": {},
   "source": [
    "## отбор слов фикс длины - новый столбец "
   ]
  },
  {
   "cell_type": "code",
   "execution_count": null,
   "metadata": {},
   "outputs": [],
   "source": [
    "def words(text, min_len):\n",
    "    text = [w for w in text if len(w) >= min_len]\n",
    "        \n",
    "    return ' '.join(text)"
   ]
  },
  {
   "cell_type": "markdown",
   "metadata": {},
   "source": [
    "# класс 71\n",
    "\n",
    "## формируем словарь"
   ]
  },
  {
   "cell_type": "code",
   "execution_count": null,
   "metadata": {},
   "outputs": [],
   "source": [
    "# class_71 = train.query('category_id == 71')"
   ]
  },
  {
   "cell_type": "code",
   "execution_count": null,
   "metadata": {},
   "outputs": [],
   "source": [
    "# сохняем сет для класса 71\n",
    "\n",
    "# class_71.to_parquet('train_71')"
   ]
  },
  {
   "cell_type": "code",
   "execution_count": null,
   "metadata": {},
   "outputs": [],
   "source": [
    "#class_71 = pd.read_parquet('train_71')"
   ]
  },
  {
   "cell_type": "code",
   "execution_count": null,
   "metadata": {},
   "outputs": [],
   "source": [
    "# выбираем слова заданной длины - через функцию words\n",
    "#class_71['items'] = class_71['item_name_token'].apply(func=lambda x : words(x, 4))"
   ]
  },
  {
   "cell_type": "code",
   "execution_count": null,
   "metadata": {},
   "outputs": [],
   "source": [
    "# заполняем пробелы между словами на \"_\"\n",
    "# наверное это уже можно и не делать - так как используется строгое обращение - .isin()\n",
    "# remove = [\" \"]\n",
    "# class_71['items_'] = class_71['items'].str.replace(r\"[{}]+\".format(\"\".join([re.escape(x) for x in remove])),\"_\", regex=True)"
   ]
  },
  {
   "cell_type": "code",
   "execution_count": null,
   "metadata": {},
   "outputs": [],
   "source": [
    "# получаем словарь для cat 71 состоящий из слов >= 4 буквы\n",
    "# common = pd.Series(class_71['items_'].value_counts().sort_values(ascending = False)).reset_index().query('index != \"\"')\n",
    "# print(len(common))"
   ]
  },
  {
   "cell_type": "code",
   "execution_count": null,
   "metadata": {},
   "outputs": [],
   "source": [
    "# убираем слова встречающиеся лишь 1 раз (возможно это неправильно), цель сокращения словаря - сократить время фильтрации неразмеченного train\n",
    "# common = common.query('items_ > 1')\n",
    "# common"
   ]
  },
  {
   "cell_type": "code",
   "execution_count": null,
   "metadata": {},
   "outputs": [],
   "source": [
    "             # проверка  - не удалять\n",
    "#common.loc[common.loc[:, 'index'] == 'картофель']"
   ]
  },
  {
   "cell_type": "code",
   "execution_count": null,
   "metadata": {},
   "outputs": [],
   "source": [
    "# сохраняем словарь для класса 71\n",
    "# common.to_parquet('dict_71')"
   ]
  },
  {
   "cell_type": "code",
   "execution_count": null,
   "metadata": {},
   "outputs": [],
   "source": [
    "# dict_71 = pd.read_parquet('dict_71')"
   ]
  },
  {
   "cell_type": "code",
   "execution_count": null,
   "metadata": {},
   "outputs": [],
   "source": [
    "#class_71 = pd.read_parquet('train_71')"
   ]
  },
  {
   "cell_type": "code",
   "execution_count": null,
   "metadata": {},
   "outputs": [],
   "source": [
    "            # НЕ УДАЛЯТЬ\n",
    "# работающий пример - поиск по слову\n",
    "# dict_temp = ['салат_сельдь_под_шубой']\n",
    "# WWW = class_71[class_71['items_'].str.contains('|'.join(dict_temp))]\n",
    "# WWW"
   ]
  },
  {
   "cell_type": "code",
   "execution_count": null,
   "metadata": {},
   "outputs": [],
   "source": [
    "# из DataFrame в список\n",
    "# dict_71 = (dict_71['index'].to_list())"
   ]
  },
  {
   "cell_type": "markdown",
   "metadata": {},
   "source": [
    "**словарь для класса 71 - готов**"
   ]
  },
  {
   "cell_type": "markdown",
   "metadata": {},
   "source": [
    "## подготовка неразмеченной выборки"
   ]
  },
  {
   "cell_type": "markdown",
   "metadata": {},
   "source": [
    "**подготовим генеральныю выборку - применим ограничение по длине слова**\n",
    "изначально использовал длинные слова - 5+, но после использования _ решил сократить ограничение до 4-х, так как теряются важные детали"
   ]
  },
  {
   "cell_type": "code",
   "execution_count": null,
   "metadata": {},
   "outputs": [],
   "source": [
    "# грузим трейн основной\n",
    "# train = pd.read_parquet('data_fusion_train_no_dubl_low_wo_simb_token')"
   ]
  },
  {
   "cell_type": "code",
   "execution_count": null,
   "metadata": {},
   "outputs": [],
   "source": [
    "%%time\n",
    "\n",
    "# разбиваем токенизированный набор на отдельные слова\n",
    "train['item_name_4_letters'] = train['item_name_token'].apply(func=lambda x : words(x, 4))"
   ]
  },
  {
   "cell_type": "code",
   "execution_count": null,
   "metadata": {},
   "outputs": [],
   "source": [
    "%%time\n",
    "# заполняем пробелы между словами на \"_\"\n",
    "remove = [\" \"]\n",
    "train['items_'] = train['item_name_4_letters'].str.replace(r\"[{}]+\".format(\"\".join([re.escape(x) for x in remove])),\"_\", regex=True)"
   ]
  },
  {
   "cell_type": "code",
   "execution_count": null,
   "metadata": {},
   "outputs": [],
   "source": [
    "%%time\n",
    "# так как разметка делается по **item_name** и **items_** убираем ненужные столбцы\n",
    "train_short = train.drop(['item_quantity', 'item_price', 'item_nds_rate', 'item_name_clean', 'item_name_token', 'item_name_4_letters'], axis='columns')"
   ]
  },
  {
   "cell_type": "code",
   "execution_count": null,
   "metadata": {},
   "outputs": [],
   "source": [
    "# сохраняем неразмеченную обрезанную выборку\n",
    "train_short.to_parquet('train_short')"
   ]
  },
  {
   "cell_type": "markdown",
   "metadata": {},
   "source": [
    "## выбираем признаки относящиеся к классу № 71"
   ]
  },
  {
   "cell_type": "code",
   "execution_count": null,
   "metadata": {},
   "outputs": [],
   "source": [
    "train_short = pd.read_parquet('train_short')"
   ]
  },
  {
   "cell_type": "code",
   "execution_count": null,
   "metadata": {},
   "outputs": [],
   "source": [
    "%%time\n",
    "train_short['cat_71'] = train_short['items_'].isin(dict_71)"
   ]
  },
  {
   "cell_type": "code",
   "execution_count": null,
   "metadata": {},
   "outputs": [],
   "source": [
    "train_short[\"cat_71\"] = train_short[\"cat_71\"].astype(int)"
   ]
  },
  {
   "cell_type": "code",
   "execution_count": null,
   "metadata": {},
   "outputs": [],
   "source": [
    "train_short.loc[train_short['cat_71'] == 1, 'cat_71'] = 71"
   ]
  },
  {
   "cell_type": "code",
   "execution_count": null,
   "metadata": {},
   "outputs": [],
   "source": [
    "train_short.loc[20:24, :]"
   ]
  },
  {
   "cell_type": "code",
   "execution_count": null,
   "metadata": {},
   "outputs": [],
   "source": [
    "train_origin_cat_71 = train_short.query('cat_71 == 71 or category_id !=-1')\n",
    "train_origin_cat_71.info()"
   ]
  },
  {
   "cell_type": "code",
   "execution_count": null,
   "metadata": {},
   "outputs": [],
   "source": [
    "train_origin = train_short.query('category_id !=-1')\n",
    "train_origin.info()"
   ]
  },
  {
   "cell_type": "code",
   "execution_count": null,
   "metadata": {},
   "outputs": [],
   "source": [
    "train_origin"
   ]
  },
  {
   "cell_type": "code",
   "execution_count": null,
   "metadata": {},
   "outputs": [],
   "source": [
    "# засунем cat_71 в category_id\n",
    "# меняем только в тех признаках, где есть -1\n",
    "train_origin_cat_71.loc[train_origin_cat_71['category_id'] == -1, 'category_id'] = 71\n",
    "train_origin_cat_71"
   ]
  },
  {
   "cell_type": "code",
   "execution_count": null,
   "metadata": {},
   "outputs": [],
   "source": [
    "# сохраняем только неразмеченную обрезанную выборку все !=-1\n",
    "train_origin.to_parquet('train_origin')"
   ]
  },
  {
   "cell_type": "code",
   "execution_count": null,
   "metadata": {},
   "outputs": [],
   "source": [
    "# сохраняем неразмеченную обрезанную выборку все !=-1 и + к этому доп размеченную категорию 71\n",
    "train_origin_cat_71.to_parquet('train_origin_cat_71')"
   ]
  },
  {
   "cell_type": "markdown",
   "metadata": {},
   "source": [
    "# ВЕКТОРИЗАЦИЯ --- TfidfVectorizer"
   ]
  },
  {
   "cell_type": "code",
   "execution_count": 7,
   "metadata": {},
   "outputs": [],
   "source": [
    "stop = stopwords.words('russian')"
   ]
  },
  {
   "cell_type": "code",
   "execution_count": 33,
   "metadata": {},
   "outputs": [],
   "source": [
    "train_origin = pd.read_parquet('train_origin')"
   ]
  },
  {
   "cell_type": "code",
   "execution_count": 35,
   "metadata": {},
   "outputs": [],
   "source": [
    "train_origin = train_origin.drop(['items_', 'cat_71'], axis='columns')"
   ]
  },
  {
   "cell_type": "code",
   "execution_count": 38,
   "metadata": {},
   "outputs": [],
   "source": [
    "train_origin_cat_71 = pd.read_parquet('train_origin_cat_71')"
   ]
  },
  {
   "cell_type": "code",
   "execution_count": 39,
   "metadata": {},
   "outputs": [],
   "source": [
    "train_origin_cat_71 = train_origin_cat_71.drop(['items_', 'cat_71'], axis='columns')"
   ]
  },
  {
   "cell_type": "code",
   "execution_count": 44,
   "metadata": {},
   "outputs": [
    {
     "name": "stdout",
     "output_type": "stream",
     "text": [
      "0\n"
     ]
    }
   ],
   "source": [
    "print(train_origin.duplicated().sum())"
   ]
  },
  {
   "cell_type": "code",
   "execution_count": 43,
   "metadata": {},
   "outputs": [],
   "source": [
    "train_origin= train_origin.drop_duplicates()"
   ]
  },
  {
   "cell_type": "code",
   "execution_count": 46,
   "metadata": {},
   "outputs": [
    {
     "name": "stdout",
     "output_type": "stream",
     "text": [
      "0\n"
     ]
    }
   ],
   "source": [
    "print(train_origin_cat_71.duplicated().sum())"
   ]
  },
  {
   "cell_type": "code",
   "execution_count": 45,
   "metadata": {},
   "outputs": [],
   "source": [
    "train_origin_cat_71= train_origin_cat_71.drop_duplicates()"
   ]
  },
  {
   "cell_type": "markdown",
   "metadata": {},
   "source": [
    "### train_short_origin"
   ]
  },
  {
   "cell_type": "code",
   "execution_count": 47,
   "metadata": {},
   "outputs": [],
   "source": [
    "tfidf_orig = TfidfVectorizer(stop_words=stop, max_features=100000)\n",
    "X_train_orig = tfidf_orig.fit_transform(train_origin.item_name)\n",
    "y_train_orig = train_origin['category_id']"
   ]
  },
  {
   "cell_type": "code",
   "execution_count": 48,
   "metadata": {},
   "outputs": [
    {
     "name": "stdout",
     "output_type": "stream",
     "text": [
      "(48018, 37160)\n"
     ]
    }
   ],
   "source": [
    "print(X_train_orig.shape)"
   ]
  },
  {
   "cell_type": "markdown",
   "metadata": {},
   "source": [
    "### train_short + cat_71"
   ]
  },
  {
   "cell_type": "code",
   "execution_count": 49,
   "metadata": {},
   "outputs": [],
   "source": [
    "tfidf_ext = TfidfVectorizer(stop_words=stop, max_features=100000)\n",
    "X_train_ext = tfidf_ext.fit_transform(train_origin_cat_71.item_name)\n",
    "y_train_ext = train_origin_cat_71['category_id']"
   ]
  },
  {
   "cell_type": "code",
   "execution_count": 50,
   "metadata": {},
   "outputs": [
    {
     "name": "stdout",
     "output_type": "stream",
     "text": [
      "(91374, 38832)\n"
     ]
    }
   ],
   "source": [
    "print(X_train_ext.shape)"
   ]
  },
  {
   "cell_type": "markdown",
   "metadata": {},
   "source": [
    "# РЕЗУЛЬТАТЫ"
   ]
  },
  {
   "cell_type": "markdown",
   "metadata": {},
   "source": [
    "# LinearSVC"
   ]
  },
  {
   "cell_type": "markdown",
   "metadata": {},
   "source": [
    "**1_1 расчет baseline - исходный сет**"
   ]
  },
  {
   "cell_type": "code",
   "execution_count": 51,
   "metadata": {},
   "outputs": [
    {
     "name": "stdout",
     "output_type": "stream",
     "text": [
      "CPU times: user 2min 13s, sys: 580 ms, total: 2min 13s\n",
      "Wall time: 2min 14s\n"
     ]
    }
   ],
   "source": [
    "%%time\n",
    "clf_1_1 = LinearSVC(max_iter=400, class_weight='balanced', random_state=12345)\n",
    "scores_1_1 = cross_val_score(clf_1_1, X_train_orig, y_train_orig, cv=8, scoring='f1_weighted')"
   ]
  },
  {
   "cell_type": "code",
   "execution_count": 52,
   "metadata": {},
   "outputs": [
    {
     "data": {
      "text/plain": [
       "0.8097410199635287"
      ]
     },
     "execution_count": 52,
     "metadata": {},
     "output_type": "execute_result"
    }
   ],
   "source": [
    "np.mean(scores_1_1)"
   ]
  },
  {
   "attachments": {
    "b914d0a4-0c46-4ca8-a675-252c9f85b607.png": {
     "image/png": "[encoded data removed]"
    }
   },
   "cell_type": "markdown",
   "metadata": {},
   "source": [
    "![image.png](attachment:b914d0a4-0c46-4ca8-a675-252c9f85b607.png)"
   ]
  },
  {
   "cell_type": "markdown",
   "metadata": {},
   "source": [
    "**1_2 расчет baseline + новая выборка для cat_71**"
   ]
  },
  {
   "cell_type": "code",
   "execution_count": 53,
   "metadata": {},
   "outputs": [
    {
     "name": "stdout",
     "output_type": "stream",
     "text": [
      "CPU times: user 4min 37s, sys: 950 ms, total: 4min 38s\n",
      "Wall time: 4min 38s\n"
     ]
    }
   ],
   "source": [
    "%%time\n",
    "clf_1_2 = LinearSVC(max_iter=400, class_weight='balanced', random_state=12345)\n",
    "scores_1_2 = cross_val_score(clf_1_2, X_train_ext, y_train_ext, cv=8, scoring='f1_weighted')"
   ]
  },
  {
   "cell_type": "code",
   "execution_count": 54,
   "metadata": {},
   "outputs": [
    {
     "data": {
      "text/plain": [
       "0.8793356263271906"
      ]
     },
     "execution_count": 54,
     "metadata": {},
     "output_type": "execute_result"
    }
   ],
   "source": [
    "np.mean(scores_1_2)"
   ]
  },
  {
   "attachments": {
    "91801d82-8cac-46ac-89bb-2bf1016baffc.png": {
     "image/png": "[encoded data removed]"
    }
   },
   "cell_type": "markdown",
   "metadata": {},
   "source": [
    "![image.png](attachment:91801d82-8cac-46ac-89bb-2bf1016baffc.png)"
   ]
  },
  {
   "cell_type": "code",
   "execution_count": 55,
   "metadata": {},
   "outputs": [
    {
     "data": {
      "text/plain": [
       "LinearSVC(class_weight='balanced', max_iter=400, random_state=12345)"
      ]
     },
     "execution_count": 55,
     "metadata": {},
     "output_type": "execute_result"
    }
   ],
   "source": [
    "clf_1_2.fit(X_train_ext, y_train_ext)"
   ]
  },
  {
   "cell_type": "markdown",
   "metadata": {},
   "source": [
    "## подготовка данных для загрузки на сайт"
   ]
  },
  {
   "cell_type": "code",
   "execution_count": 56,
   "metadata": {},
   "outputs": [],
   "source": [
    "tfidf = tfidf_ext\n",
    "clf = clf_1_2"
   ]
  },
  {
   "cell_type": "code",
   "execution_count": 57,
   "metadata": {},
   "outputs": [],
   "source": [
    "import pickle\n",
    "\n",
    "pickle.dump(tfidf, open('t1_sub/tfidf', 'wb'))\n",
    "pickle.dump(clf, open('t1_sub/clf_task1', 'wb'))"
   ]
  },
  {
   "cell_type": "code",
   "execution_count": 58,
   "metadata": {},
   "outputs": [
    {
     "name": "stdout",
     "output_type": "stream",
     "text": [
      "total 63648\n",
      "-rw-r--r--@ 1 romanfomin  staff    29M Feb 15 11:34 clf_task1\n",
      "-rw-r--r--@ 1 romanfomin  staff   372B Jan 24 11:54 script.py\n",
      "-rw-r--r--@ 1 romanfomin  staff   1.2M Feb 15 11:34 tfidf\n"
     ]
    }
   ],
   "source": [
    "!ls -lh t1_sub"
   ]
  },
  {
   "cell_type": "code",
   "execution_count": 59,
   "metadata": {},
   "outputs": [
    {
     "name": "stdout",
     "output_type": "stream",
     "text": [
      "['clf_task1', 'tfidf', 'script.py']\n"
     ]
    }
   ],
   "source": [
    "import zipfile \n",
    "compression = zipfile.ZIP_DEFLATED\n",
    "\n",
    "debutants = 't1_sub/submission.zip'\n",
    "\n",
    "with zipfile.ZipFile(debutants, 'w') as zipObj:\n",
    "    for filename in ['clf_task1', 'tfidf', 'script.py']:\n",
    "        zipObj.write(\n",
    "            f't1_sub/{filename}', \n",
    "            arcname=filename, \n",
    "            compress_type=compression\n",
    "        )\n",
    "    print(zipObj.namelist())\n",
    "\n"
   ]
  },
  {
   "cell_type": "code",
   "execution_count": 60,
   "metadata": {},
   "outputs": [
    {
     "name": "stdout",
     "output_type": "stream",
     "text": [
      "-rw-r--r--  1 romanfomin  staff   6.7M Feb 15 11:34 t1_sub/submission.zip\n"
     ]
    }
   ],
   "source": [
    "!ls -lh {debutants}"
   ]
  },
  {
   "cell_type": "code",
   "execution_count": null,
   "metadata": {},
   "outputs": [],
   "source": []
  }
 ],
 "metadata": {
  "kernelspec": {
   "display_name": "Python 3",
   "language": "python",
   "name": "python3"
  },
  "language_info": {
   "codemirror_mode": {
    "name": "ipython",
    "version": 3
   },
   "file_extension": ".py",
   "mimetype": "text/x-python",
   "name": "python",
   "nbconvert_exporter": "python",
   "pygments_lexer": "ipython3",
   "version": "3.8.3"
  }
 },
 "nbformat": 4,
 "nbformat_minor": 4
}
