{
 "cells": [
  {
   "cell_type": "code",
   "execution_count": 1,
   "metadata": {},
   "outputs": [],
   "source": [
    "import pandas as pd"
   ]
  },
  {
   "cell_type": "code",
   "execution_count": 2,
   "metadata": {},
   "outputs": [],
   "source": [
    "from sklearn.linear_model import LogisticRegression\n",
    "from sklearn.svm import LinearSVC\n",
    "from sklearn.model_selection import cross_val_score\n",
    "from sklearn.feature_extraction.text import TfidfVectorizer\n",
    "from nltk.corpus import stopwords \n",
    "\n",
    "from sklearn.metrics import f1_score, make_scorer\n",
    "import numpy as np\n",
    "\n",
    "# отключение предупреждений\n",
    "import warnings; warnings.filterwarnings(\"ignore\", category=Warning)"
   ]
  },
  {
   "cell_type": "code",
   "execution_count": 3,
   "metadata": {},
   "outputs": [],
   "source": [
    "from collections import Counter\n",
    "import re\n",
    "import pymorphy2"
   ]
  },
  {
   "cell_type": "code",
   "execution_count": 4,
   "metadata": {},
   "outputs": [],
   "source": [
    "import nltk\n",
    "#nltk.download('stopwords')"
   ]
  },
  {
   "cell_type": "code",
   "execution_count": 5,
   "metadata": {},
   "outputs": [],
   "source": [
    "from nltk import word_tokenize\n",
    "import nltk\n",
    "#nltk.download('punkt')"
   ]
  },
  {
   "cell_type": "code",
   "execution_count": 6,
   "metadata": {},
   "outputs": [],
   "source": [
    "from sklearn.dummy import DummyClassifier\n",
    "from sklearn.tree import DecisionTreeClassifier\n",
    "from sklearn.ensemble import RandomForestClassifier\n",
    "from sklearn.neighbors import KNeighborsClassifier\n",
    "from sklearn.ensemble import GradientBoostingClassifier\n",
    "#from catboost import CatBoostClassifie"
   ]
  },
  {
   "cell_type": "markdown",
   "metadata": {},
   "source": [
    "# грузим сет"
   ]
  },
  {
   "cell_type": "code",
   "execution_count": null,
   "metadata": {},
   "outputs": [],
   "source": [
    "# исходный сет \n",
    "# train = pd.read_parquet('data_fusion_train.parquet')"
   ]
  },
  {
   "cell_type": "markdown",
   "metadata": {},
   "source": [
    "# удаляем лишнее"
   ]
  },
  {
   "cell_type": "code",
   "execution_count": null,
   "metadata": {},
   "outputs": [],
   "source": [
    "#train = train.drop(['receipt_id', 'receipt_dayofweek', 'receipt_time','brands'], axis='columns')"
   ]
  },
  {
   "attachments": {
    "3391db40-bc92-404c-b817-4b55be6354a7.png": {
     "image/png": "[encoded data removed]"
    }
   },
   "cell_type": "markdown",
   "metadata": {},
   "source": [
    "![image.png](attachment:3391db40-bc92-404c-b817-4b55be6354a7.png)\n",
    "\n",
    "из 26 млн - 18.9 полные дубликаты по item_quantity - item_price - item_nds_rate - category_id"
   ]
  },
  {
   "cell_type": "code",
   "execution_count": null,
   "metadata": {},
   "outputs": [],
   "source": [
    "# train_no_dublic= train.drop_duplicates().reset_index(drop=True)"
   ]
  },
  {
   "cell_type": "code",
   "execution_count": null,
   "metadata": {},
   "outputs": [],
   "source": [
    "# train_no_dublic.to_parquet('data_fusion_train_no_dubl')"
   ]
  },
  {
   "cell_type": "code",
   "execution_count": null,
   "metadata": {},
   "outputs": [],
   "source": [
    "# train_no_dublic.item_name = train_no_dublic.item_name.str.lower()"
   ]
  },
  {
   "cell_type": "code",
   "execution_count": null,
   "metadata": {},
   "outputs": [],
   "source": [
    "# print(train_no_dublic.duplicated().sum())\n",
    "# было порядка 34 тыс после перевода в нижний"
   ]
  },
  {
   "cell_type": "code",
   "execution_count": null,
   "metadata": {},
   "outputs": [],
   "source": [
    "# train_no_dublic_low= train_no_dublic.drop_duplicates().reset_index(drop=True)"
   ]
  },
  {
   "cell_type": "code",
   "execution_count": null,
   "metadata": {},
   "outputs": [],
   "source": [
    "# train_no_dublic_low.to_parquet('data_fusion_train_no_dubl_low')"
   ]
  },
  {
   "cell_type": "markdown",
   "metadata": {},
   "source": [
    "## грузим сет - без дубликатов и в нижнем регистре"
   ]
  },
  {
   "cell_type": "code",
   "execution_count": null,
   "metadata": {},
   "outputs": [],
   "source": [
    "# сет для анализа \n",
    "#train = pd.read_parquet('data_fusion_train_no_dubl_low')"
   ]
  },
  {
   "cell_type": "markdown",
   "metadata": {},
   "source": [
    "## удаляем символы ненужные"
   ]
  },
  {
   "cell_type": "code",
   "execution_count": null,
   "metadata": {},
   "outputs": [],
   "source": [
    "# удаляем ненужные знаки\n",
    "\n",
    "# remove = [\",\", \".\", \"*\", '\"', \"№\", \")\", \"(\", \"%\", '/', '+','-','#',':',';','@','$','^','&','=']\n",
    "# train['item_name_clean'] = train['item_name'].str.replace(r\"[{}]+\".format(\" \".join([re.escape(x) for x in remove])),\" \", regex=True)"
   ]
  },
  {
   "cell_type": "code",
   "execution_count": null,
   "metadata": {},
   "outputs": [],
   "source": [
    "# удаляем цифры\n",
    "\n",
    "# train['item_name_clean'] = train['item_name_clean'].apply(\n",
    "#     lambda x:''.join(ch for ch in x if ch.isalpha() or ch.isspace())\n",
    "# )"
   ]
  },
  {
   "cell_type": "code",
   "execution_count": null,
   "metadata": {},
   "outputs": [],
   "source": [
    "# проверяем наличие дубликатов\n",
    "\n",
    "#print(train.duplicated().sum())\n",
    "# нет дубликатов"
   ]
  },
  {
   "cell_type": "code",
   "execution_count": null,
   "metadata": {},
   "outputs": [],
   "source": [
    "# сохраняем сет без цифр и знаков препинаний и спец знаков\n",
    "\n",
    "#train.to_parquet('data_fusion_train_no_dubl_low_wo_simb')"
   ]
  },
  {
   "cell_type": "markdown",
   "metadata": {},
   "source": [
    "## tokenizing"
   ]
  },
  {
   "cell_type": "code",
   "execution_count": null,
   "metadata": {},
   "outputs": [],
   "source": [
    "# train = pd.read_parquet('data_fusion_train_no_dubl_low_wo_simb')"
   ]
  },
  {
   "cell_type": "code",
   "execution_count": null,
   "metadata": {},
   "outputs": [],
   "source": [
    "# %%time\n",
    "# train['item_name_token'] = train.apply(lambda x: nltk.word_tokenize(x['item_name_clean']), axis=1)"
   ]
  },
  {
   "cell_type": "code",
   "execution_count": null,
   "metadata": {},
   "outputs": [],
   "source": [
    "#train.to_parquet('data_fusion_train_no_dubl_low_wo_simb_token')"
   ]
  },
  {
   "cell_type": "code",
   "execution_count": null,
   "metadata": {},
   "outputs": [],
   "source": [
    "#train = pd.read_parquet('data_fusion_train_no_dubl_low_wo_simb_token')"
   ]
  },
  {
   "cell_type": "markdown",
   "metadata": {},
   "source": [
    "## отбор слов фикс длины - новый столбец "
   ]
  },
  {
   "cell_type": "code",
   "execution_count": 65,
   "metadata": {},
   "outputs": [],
   "source": [
    "def words(text, min_len):\n",
    "    text = [w for w in text if len(w) >= min_len]\n",
    "        \n",
    "    return ' '.join(text)"
   ]
  },
  {
   "cell_type": "markdown",
   "metadata": {},
   "source": [
    "## класс 71 формируем словарь"
   ]
  },
  {
   "cell_type": "code",
   "execution_count": null,
   "metadata": {},
   "outputs": [],
   "source": [
    "# class_71 = train.query('category_id == 71')"
   ]
  },
  {
   "cell_type": "code",
   "execution_count": null,
   "metadata": {},
   "outputs": [],
   "source": [
    "# сохняем сет для класса 71\n",
    "\n",
    "# class_71.to_parquet('train_71')"
   ]
  },
  {
   "cell_type": "code",
   "execution_count": null,
   "metadata": {},
   "outputs": [],
   "source": [
    "#class_71 = pd.read_parquet('train_71')"
   ]
  },
  {
   "cell_type": "code",
   "execution_count": null,
   "metadata": {},
   "outputs": [],
   "source": [
    "# выбираем слова заданной длины - через функцию words\n",
    "#class_71['items'] = class_71['item_name_token'].apply(func=lambda x : words(x, 4))"
   ]
  },
  {
   "cell_type": "code",
   "execution_count": null,
   "metadata": {},
   "outputs": [],
   "source": [
    "# заполняем пробелы между словами на \"_\"\n",
    "# наверное это уже можно и не делать - так как используется строгое обращение - .isin()\n",
    "# remove = [\" \"]\n",
    "# class_71['items_'] = class_71['items'].str.replace(r\"[{}]+\".format(\"\".join([re.escape(x) for x in remove])),\"_\", regex=True)"
   ]
  },
  {
   "cell_type": "code",
   "execution_count": null,
   "metadata": {},
   "outputs": [],
   "source": [
    "# получаем словарь для cat 71 состоящий из слов >= 4 буквы\n",
    "# common = pd.Series(class_71['items_'].value_counts().sort_values(ascending = False)).reset_index().query('index != \"\"')\n",
    "# print(len(common))"
   ]
  },
  {
   "cell_type": "code",
   "execution_count": null,
   "metadata": {},
   "outputs": [],
   "source": [
    "# убираем слова встречающиеся лишь 1 раз (возможно это неправильно), цель сокращения словаря - сократить время фильтрации неразмеченного train\n",
    "# common = common.query('items_ > 1')\n",
    "# common"
   ]
  },
  {
   "cell_type": "code",
   "execution_count": 180,
   "metadata": {},
   "outputs": [
    {
     "data": {
      "text/html": [
       "<div>\n",
       "<style scoped>\n",
       "    .dataframe tbody tr th:only-of-type {\n",
       "        vertical-align: middle;\n",
       "    }\n",
       "\n",
       "    .dataframe tbody tr th {\n",
       "        vertical-align: top;\n",
       "    }\n",
       "\n",
       "    .dataframe thead th {\n",
       "        text-align: right;\n",
       "    }\n",
       "</style>\n",
       "<table border=\"1\" class=\"dataframe\">\n",
       "  <thead>\n",
       "    <tr style=\"text-align: right;\">\n",
       "      <th></th>\n",
       "      <th>index</th>\n",
       "      <th>items_</th>\n",
       "    </tr>\n",
       "  </thead>\n",
       "  <tbody>\n",
       "  </tbody>\n",
       "</table>\n",
       "</div>"
      ],
      "text/plain": [
       "Empty DataFrame\n",
       "Columns: [index, items_]\n",
       "Index: []"
      ]
     },
     "execution_count": 180,
     "metadata": {},
     "output_type": "execute_result"
    }
   ],
   "source": [
    "             # проверка  - не удалять\n",
    "dict_71.loc[dict_71.loc[:, 'index'] == 'пакет']"
   ]
  },
  {
   "cell_type": "code",
   "execution_count": null,
   "metadata": {},
   "outputs": [],
   "source": [
    "# сохраняем словарь для класса 71\n",
    "# common.to_parquet('dict_71')"
   ]
  },
  {
   "cell_type": "code",
   "execution_count": 179,
   "metadata": {},
   "outputs": [],
   "source": [
    "dict_71 = pd.read_parquet('dict_71')"
   ]
  },
  {
   "cell_type": "code",
   "execution_count": null,
   "metadata": {},
   "outputs": [],
   "source": [
    "#class_71 = pd.read_parquet('train_71')"
   ]
  },
  {
   "cell_type": "code",
   "execution_count": null,
   "metadata": {},
   "outputs": [],
   "source": [
    "            # НЕ УДАЛЯТЬ\n",
    "# работающий пример - поиск по слову\n",
    "# dict_temp = ['салат_сельдь_под_шубой']\n",
    "# WWW = class_71[class_71['items_'].str.contains('|'.join(dict_temp))]\n",
    "# WWW"
   ]
  },
  {
   "cell_type": "code",
   "execution_count": null,
   "metadata": {},
   "outputs": [],
   "source": [
    "# из DataFrame в список\n",
    "# dict_71 = (dict_71['index'].to_list())"
   ]
  },
  {
   "cell_type": "markdown",
   "metadata": {},
   "source": [
    "**словарь для класса 71 - готов**"
   ]
  },
  {
   "cell_type": "markdown",
   "metadata": {},
   "source": [
    "## подготовка неразмеченной выборки"
   ]
  },
  {
   "cell_type": "markdown",
   "metadata": {},
   "source": [
    "**подготовим генеральныю выборку - применим ограничение по длине слова**\n",
    "изначально использовал длинные слова - 5+, но после использования _ решил сократить ограничение до 4-х, так как теряются важные детали"
   ]
  },
  {
   "cell_type": "code",
   "execution_count": null,
   "metadata": {},
   "outputs": [],
   "source": [
    "# грузим трейн основной\n",
    "# train = pd.read_parquet('data_fusion_train_no_dubl_low_wo_simb_token')"
   ]
  },
  {
   "cell_type": "code",
   "execution_count": null,
   "metadata": {},
   "outputs": [],
   "source": [
    "%%time\n",
    "\n",
    "# разбиваем токенизированный набор на отдельные слова\n",
    "train['item_name_4_letters'] = train['item_name_token'].apply(func=lambda x : words(x, 4))"
   ]
  },
  {
   "cell_type": "code",
   "execution_count": null,
   "metadata": {},
   "outputs": [],
   "source": [
    "%%time\n",
    "# заполняем пробелы между словами на \"_\"\n",
    "remove = [\" \"]\n",
    "train['items_'] = train['item_name_4_letters'].str.replace(r\"[{}]+\".format(\"\".join([re.escape(x) for x in remove])),\"_\", regex=True)"
   ]
  },
  {
   "cell_type": "code",
   "execution_count": null,
   "metadata": {},
   "outputs": [],
   "source": [
    "%%time\n",
    "# так как разметка делается по **item_name** и **items_** убираем ненужные столбцы\n",
    "train_short = train.drop(['item_quantity', 'item_price', 'item_nds_rate', 'item_name_clean', 'item_name_token', 'item_name_4_letters'], axis='columns')"
   ]
  },
  {
   "cell_type": "code",
   "execution_count": null,
   "metadata": {},
   "outputs": [],
   "source": [
    "# сохраняем неразмеченную обрезанную выборку\n",
    "train_short.to_parquet('train_short')"
   ]
  },
  {
   "cell_type": "markdown",
   "metadata": {},
   "source": [
    "## выбираем признаки относящиеся к классу № 71"
   ]
  },
  {
   "cell_type": "code",
   "execution_count": null,
   "metadata": {},
   "outputs": [],
   "source": [
    "train_short = pd.read_parquet('train_short')"
   ]
  },
  {
   "cell_type": "code",
   "execution_count": null,
   "metadata": {},
   "outputs": [],
   "source": [
    "%%time\n",
    "train_short['cat_71'] = train_short['items_'].isin(dict_71)"
   ]
  },
  {
   "cell_type": "code",
   "execution_count": null,
   "metadata": {},
   "outputs": [],
   "source": [
    "train_short[\"cat_71\"] = train_short[\"cat_71\"].astype(int)"
   ]
  },
  {
   "cell_type": "code",
   "execution_count": null,
   "metadata": {},
   "outputs": [],
   "source": [
    "train_short.loc[train_short['cat_71'] == 1, 'cat_71'] = 71"
   ]
  },
  {
   "cell_type": "code",
   "execution_count": null,
   "metadata": {},
   "outputs": [],
   "source": [
    "train_short.loc[20:24, :]"
   ]
  },
  {
   "cell_type": "code",
   "execution_count": null,
   "metadata": {},
   "outputs": [],
   "source": [
    "train_origin_cat_71 = train_short.query('cat_71 == 71 or category_id !=-1')\n",
    "train_origin_cat_71.info()"
   ]
  },
  {
   "cell_type": "code",
   "execution_count": null,
   "metadata": {},
   "outputs": [],
   "source": [
    "train_origin = train_short.query('category_id !=-1')\n",
    "train_origin.info()"
   ]
  },
  {
   "cell_type": "code",
   "execution_count": null,
   "metadata": {},
   "outputs": [],
   "source": [
    "train_origin"
   ]
  },
  {
   "cell_type": "code",
   "execution_count": null,
   "metadata": {},
   "outputs": [],
   "source": [
    "# засунем cat_71 в category_id\n",
    "# меняем только в тех признаках, где есть -1\n",
    "train_origin_cat_71.loc[train_origin_cat_71['category_id'] == -1, 'category_id'] = 71\n",
    "train_origin_cat_71"
   ]
  },
  {
   "cell_type": "code",
   "execution_count": null,
   "metadata": {},
   "outputs": [],
   "source": [
    "# сохраняем только неразмеченную обрезанную выборку все !=-1\n",
    "train_origin.to_parquet('train_origin')"
   ]
  },
  {
   "cell_type": "code",
   "execution_count": null,
   "metadata": {},
   "outputs": [],
   "source": [
    "# сохраняем неразмеченную обрезанную выборку все !=-1 и + к этому доп размеченную категорию 71\n",
    "train_origin_cat_71.to_parquet('train_origin_cat_71')"
   ]
  },
  {
   "cell_type": "markdown",
   "metadata": {},
   "source": [
    "## класс 84  формируем словарь"
   ]
  },
  {
   "cell_type": "code",
   "execution_count": 62,
   "metadata": {},
   "outputs": [],
   "source": [
    "train = pd.read_parquet('data_fusion_train_no_dubl_low_wo_simb_token')"
   ]
  },
  {
   "cell_type": "code",
   "execution_count": 141,
   "metadata": {},
   "outputs": [],
   "source": [
    "class_84 = train.query('category_id == 84')"
   ]
  },
  {
   "cell_type": "code",
   "execution_count": 142,
   "metadata": {},
   "outputs": [],
   "source": [
    "# выбираем слова заданной длины - через функцию words\n",
    "class_84['items'] = class_84['item_name_token'].apply(func=lambda x : words(x, 4))"
   ]
  },
  {
   "cell_type": "code",
   "execution_count": 143,
   "metadata": {},
   "outputs": [
    {
     "data": {
      "text/html": [
       "<div>\n",
       "<style scoped>\n",
       "    .dataframe tbody tr th:only-of-type {\n",
       "        vertical-align: middle;\n",
       "    }\n",
       "\n",
       "    .dataframe tbody tr th {\n",
       "        vertical-align: top;\n",
       "    }\n",
       "\n",
       "    .dataframe thead th {\n",
       "        text-align: right;\n",
       "    }\n",
       "</style>\n",
       "<table border=\"1\" class=\"dataframe\">\n",
       "  <thead>\n",
       "    <tr style=\"text-align: right;\">\n",
       "      <th></th>\n",
       "      <th>item_name</th>\n",
       "      <th>item_quantity</th>\n",
       "      <th>item_price</th>\n",
       "      <th>item_nds_rate</th>\n",
       "      <th>category_id</th>\n",
       "      <th>item_name_clean</th>\n",
       "      <th>item_name_token</th>\n",
       "      <th>items</th>\n",
       "    </tr>\n",
       "  </thead>\n",
       "  <tbody>\n",
       "    <tr>\n",
       "      <th>6131669</th>\n",
       "      <td>сочень с творогом 80 гр 1 шт.</td>\n",
       "      <td>1.0</td>\n",
       "      <td>6</td>\n",
       "      <td>6</td>\n",
       "      <td>84</td>\n",
       "      <td>сочень с творогом  гр  шт</td>\n",
       "      <td>[сочень, с, творогом, гр, шт]</td>\n",
       "      <td>сочень творогом</td>\n",
       "    </tr>\n",
       "    <tr>\n",
       "      <th>5699136</th>\n",
       "      <td>сосиска запеченая в тесте 95г</td>\n",
       "      <td>9.0</td>\n",
       "      <td>7</td>\n",
       "      <td>2</td>\n",
       "      <td>84</td>\n",
       "      <td>сосиска запеченая в тесте г</td>\n",
       "      <td>[сосиска, запеченая, в, тесте, г]</td>\n",
       "      <td>сосиска запеченая тесте</td>\n",
       "    </tr>\n",
       "    <tr>\n",
       "      <th>700747</th>\n",
       "      <td>торт красный бархат 1.2кг ресторанная коллекци</td>\n",
       "      <td>1.0</td>\n",
       "      <td>15</td>\n",
       "      <td>1</td>\n",
       "      <td>84</td>\n",
       "      <td>торт красный бархат  кг ресторанная коллекци</td>\n",
       "      <td>[торт, красный, бархат, кг, ресторанная, колле...</td>\n",
       "      <td>торт красный бархат ресторанная коллекци</td>\n",
       "    </tr>\n",
       "  </tbody>\n",
       "</table>\n",
       "</div>"
      ],
      "text/plain": [
       "                                              item_name  item_quantity  \\\n",
       "6131669                   сочень с творогом 80 гр 1 шт.            1.0   \n",
       "5699136                   сосиска запеченая в тесте 95г            9.0   \n",
       "700747   торт красный бархат 1.2кг ресторанная коллекци            1.0   \n",
       "\n",
       "         item_price  item_nds_rate  category_id  \\\n",
       "6131669           6              6           84   \n",
       "5699136           7              2           84   \n",
       "700747           15              1           84   \n",
       "\n",
       "                                      item_name_clean  \\\n",
       "6131669                    сочень с творогом  гр  шт    \n",
       "5699136                   сосиска запеченая в тесте г   \n",
       "700747   торт красный бархат  кг ресторанная коллекци   \n",
       "\n",
       "                                           item_name_token  \\\n",
       "6131669                      [сочень, с, творогом, гр, шт]   \n",
       "5699136                  [сосиска, запеченая, в, тесте, г]   \n",
       "700747   [торт, красный, бархат, кг, ресторанная, колле...   \n",
       "\n",
       "                                            items  \n",
       "6131669                           сочень творогом  \n",
       "5699136                   сосиска запеченая тесте  \n",
       "700747   торт красный бархат ресторанная коллекци  "
      ]
     },
     "execution_count": 143,
     "metadata": {},
     "output_type": "execute_result"
    }
   ],
   "source": [
    "class_84.sample(3)"
   ]
  },
  {
   "cell_type": "code",
   "execution_count": 144,
   "metadata": {},
   "outputs": [],
   "source": [
    "# заполняем пробелы между словами на \"_\"\n",
    "# наверное это уже можно и не делать - так как используется строгое обращение - .isin()\n",
    "remove = [\" \"]\n",
    "class_84['items_'] = class_84['items'].str.replace(r\"[{}]+\".format(\"\".join([re.escape(x) for x in remove])),\"_\", regex=True)\n",
    "class_84.to_parquet('class_84')"
   ]
  },
  {
   "cell_type": "code",
   "execution_count": 145,
   "metadata": {},
   "outputs": [
    {
     "name": "stdout",
     "output_type": "stream",
     "text": [
      "6106\n"
     ]
    }
   ],
   "source": [
    "# получаем словарь состоящий из слов >= 4 буквы\n",
    "common = pd.Series(class_84['items_'].value_counts().sort_values(ascending = False)).reset_index().query('index != \"\"')\n",
    "print(len(common))"
   ]
  },
  {
   "cell_type": "code",
   "execution_count": 139,
   "metadata": {},
   "outputs": [],
   "source": [
    "# with pd.option_context('display.max_rows', 10000, 'display.max_columns', 10):\n",
    "#     display(common)"
   ]
  },
  {
   "cell_type": "code",
   "execution_count": 165,
   "metadata": {},
   "outputs": [
    {
     "name": "stdout",
     "output_type": "stream",
     "text": [
      "4564\n"
     ]
    }
   ],
   "source": [
    "# убираем слова встречающиеся лишь 1 раз (возможно это неправильно), цель сокращения словаря - сократить время фильтрации неразмеченного train\n",
    "common = common.query('items_ > 1')\n",
    "common = common.query('index != \"пакет\"')\n",
    "print(len(common))\n",
    "common.to_parquet('dict_84')"
   ]
  },
  {
   "cell_type": "code",
   "execution_count": 166,
   "metadata": {},
   "outputs": [
    {
     "data": {
      "text/html": [
       "<div>\n",
       "<style scoped>\n",
       "    .dataframe tbody tr th:only-of-type {\n",
       "        vertical-align: middle;\n",
       "    }\n",
       "\n",
       "    .dataframe tbody tr th {\n",
       "        vertical-align: top;\n",
       "    }\n",
       "\n",
       "    .dataframe thead th {\n",
       "        text-align: right;\n",
       "    }\n",
       "</style>\n",
       "<table border=\"1\" class=\"dataframe\">\n",
       "  <thead>\n",
       "    <tr style=\"text-align: right;\">\n",
       "      <th></th>\n",
       "      <th>index</th>\n",
       "      <th>items_</th>\n",
       "    </tr>\n",
       "  </thead>\n",
       "  <tbody>\n",
       "    <tr>\n",
       "      <th>0</th>\n",
       "      <td>кондитерские_изделия</td>\n",
       "      <td>1415</td>\n",
       "    </tr>\n",
       "    <tr>\n",
       "      <th>1</th>\n",
       "      <td>печенье_овсяное</td>\n",
       "      <td>969</td>\n",
       "    </tr>\n",
       "    <tr>\n",
       "      <th>2</th>\n",
       "      <td>сосиска_тесте</td>\n",
       "      <td>843</td>\n",
       "    </tr>\n",
       "    <tr>\n",
       "      <th>3</th>\n",
       "      <td>печенье_топленое</td>\n",
       "      <td>772</td>\n",
       "    </tr>\n",
       "    <tr>\n",
       "      <th>4</th>\n",
       "      <td>булочка_бутербродная</td>\n",
       "      <td>734</td>\n",
       "    </tr>\n",
       "    <tr>\n",
       "      <th>...</th>\n",
       "      <td>...</td>\n",
       "      <td>...</td>\n",
       "    </tr>\n",
       "    <tr>\n",
       "      <th>4561</th>\n",
       "      <td>хлеб_русский_атолл</td>\n",
       "      <td>2</td>\n",
       "    </tr>\n",
       "    <tr>\n",
       "      <th>4562</th>\n",
       "      <td>османская_восточная_сладость_петра</td>\n",
       "      <td>2</td>\n",
       "    </tr>\n",
       "    <tr>\n",
       "      <th>4563</th>\n",
       "      <td>конфеты_ореховой_начинкой_орехами</td>\n",
       "      <td>2</td>\n",
       "    </tr>\n",
       "    <tr>\n",
       "      <th>4564</th>\n",
       "      <td>ментос_ролл_клубника</td>\n",
       "      <td>2</td>\n",
       "    </tr>\n",
       "    <tr>\n",
       "      <th>4565</th>\n",
       "      <td>рриглисперминт</td>\n",
       "      <td>2</td>\n",
       "    </tr>\n",
       "  </tbody>\n",
       "</table>\n",
       "<p>4564 rows × 2 columns</p>\n",
       "</div>"
      ],
      "text/plain": [
       "                                   index  items_\n",
       "0                   кондитерские_изделия    1415\n",
       "1                        печенье_овсяное     969\n",
       "2                          сосиска_тесте     843\n",
       "3                       печенье_топленое     772\n",
       "4                   булочка_бутербродная     734\n",
       "...                                  ...     ...\n",
       "4561                  хлеб_русский_атолл       2\n",
       "4562  османская_восточная_сладость_петра       2\n",
       "4563   конфеты_ореховой_начинкой_орехами       2\n",
       "4564                ментос_ролл_клубника       2\n",
       "4565                      рриглисперминт       2\n",
       "\n",
       "[4564 rows x 2 columns]"
      ]
     },
     "execution_count": 166,
     "metadata": {},
     "output_type": "execute_result"
    }
   ],
   "source": [
    "common"
   ]
  },
  {
   "cell_type": "code",
   "execution_count": 167,
   "metadata": {},
   "outputs": [
    {
     "data": {
      "text/html": [
       "<div>\n",
       "<style scoped>\n",
       "    .dataframe tbody tr th:only-of-type {\n",
       "        vertical-align: middle;\n",
       "    }\n",
       "\n",
       "    .dataframe tbody tr th {\n",
       "        vertical-align: top;\n",
       "    }\n",
       "\n",
       "    .dataframe thead th {\n",
       "        text-align: right;\n",
       "    }\n",
       "</style>\n",
       "<table border=\"1\" class=\"dataframe\">\n",
       "  <thead>\n",
       "    <tr style=\"text-align: right;\">\n",
       "      <th></th>\n",
       "      <th>index</th>\n",
       "      <th>items_</th>\n",
       "    </tr>\n",
       "  </thead>\n",
       "  <tbody>\n",
       "  </tbody>\n",
       "</table>\n",
       "</div>"
      ],
      "text/plain": [
       "Empty DataFrame\n",
       "Columns: [index, items_]\n",
       "Index: []"
      ]
     },
     "execution_count": 167,
     "metadata": {},
     "output_type": "execute_result"
    }
   ],
   "source": [
    "common.loc[common.loc[:, 'index'] == 'пакет']"
   ]
  },
  {
   "cell_type": "code",
   "execution_count": 168,
   "metadata": {},
   "outputs": [],
   "source": [
    "# из DataFrame в список\n",
    "dict_84 = (common['index'].to_list())"
   ]
  },
  {
   "cell_type": "markdown",
   "metadata": {},
   "source": [
    "### выбираем признаки относящиеся к классу № 84"
   ]
  },
  {
   "cell_type": "code",
   "execution_count": 108,
   "metadata": {},
   "outputs": [],
   "source": [
    "train_short = pd.read_parquet('train_short')"
   ]
  },
  {
   "cell_type": "code",
   "execution_count": 169,
   "metadata": {},
   "outputs": [
    {
     "name": "stdout",
     "output_type": "stream",
     "text": [
      "CPU times: user 1.24 s, sys: 778 ms, total: 2.02 s\n",
      "Wall time: 2.35 s\n"
     ]
    }
   ],
   "source": [
    "%%time\n",
    "train_short['cat_84'] = train_short['items_'].isin(dict_84)"
   ]
  },
  {
   "cell_type": "code",
   "execution_count": 171,
   "metadata": {},
   "outputs": [],
   "source": [
    "train_short[\"cat_84\"] = train_short[\"cat_84\"].astype(int)"
   ]
  },
  {
   "cell_type": "code",
   "execution_count": 172,
   "metadata": {},
   "outputs": [],
   "source": [
    "train_short.loc[train_short['cat_84'] == 1, 'cat_84'] = 84"
   ]
  },
  {
   "cell_type": "code",
   "execution_count": 173,
   "metadata": {},
   "outputs": [
    {
     "data": {
      "text/html": [
       "<div>\n",
       "<style scoped>\n",
       "    .dataframe tbody tr th:only-of-type {\n",
       "        vertical-align: middle;\n",
       "    }\n",
       "\n",
       "    .dataframe tbody tr th {\n",
       "        vertical-align: top;\n",
       "    }\n",
       "\n",
       "    .dataframe thead th {\n",
       "        text-align: right;\n",
       "    }\n",
       "</style>\n",
       "<table border=\"1\" class=\"dataframe\">\n",
       "  <thead>\n",
       "    <tr style=\"text-align: right;\">\n",
       "      <th></th>\n",
       "      <th>item_name</th>\n",
       "      <th>category_id</th>\n",
       "      <th>items_</th>\n",
       "      <th>cat_84</th>\n",
       "    </tr>\n",
       "  </thead>\n",
       "  <tbody>\n",
       "    <tr>\n",
       "      <th>0</th>\n",
       "      <td>флуконазол капс 150мг №1 вертекс</td>\n",
       "      <td>-1</td>\n",
       "      <td>флуконазол_капс_вертекс</td>\n",
       "      <td>0</td>\n",
       "    </tr>\n",
       "    <tr>\n",
       "      <th>1</th>\n",
       "      <td>молоко 3,2%,шт</td>\n",
       "      <td>78</td>\n",
       "      <td>молоко</td>\n",
       "      <td>0</td>\n",
       "    </tr>\n",
       "    <tr>\n",
       "      <th>2</th>\n",
       "      <td>борщ станичный с тушенкой, 103 ккал (завод, з/у)</td>\n",
       "      <td>-1</td>\n",
       "      <td>борщ_станичный_тушенкой_ккал_завод</td>\n",
       "      <td>0</td>\n",
       "    </tr>\n",
       "    <tr>\n",
       "      <th>3</th>\n",
       "      <td>компот из изюма, 114 ккал</td>\n",
       "      <td>71</td>\n",
       "      <td>компот_изюма_ккал</td>\n",
       "      <td>0</td>\n",
       "    </tr>\n",
       "    <tr>\n",
       "      <th>4</th>\n",
       "      <td>макаронные изделия отварные (масло сливочное),...</td>\n",
       "      <td>71</td>\n",
       "      <td>макаронные_изделия_отварные_масло_сливочное_ккал</td>\n",
       "      <td>0</td>\n",
       "    </tr>\n",
       "    <tr>\n",
       "      <th>...</th>\n",
       "      <td>...</td>\n",
       "      <td>...</td>\n",
       "      <td>...</td>\n",
       "      <td>...</td>\n",
       "    </tr>\n",
       "    <tr>\n",
       "      <th>7062331</th>\n",
       "      <td>виноград тайфи 1кг</td>\n",
       "      <td>-1</td>\n",
       "      <td>виноград_тайфи</td>\n",
       "      <td>0</td>\n",
       "    </tr>\n",
       "    <tr>\n",
       "      <th>7062332</th>\n",
       "      <td>сочень с творогом 110 гр</td>\n",
       "      <td>-1</td>\n",
       "      <td>сочень_творогом</td>\n",
       "      <td>84</td>\n",
       "    </tr>\n",
       "    <tr>\n",
       "      <th>7062333</th>\n",
       "      <td>трк-25 кпг</td>\n",
       "      <td>-1</td>\n",
       "      <td></td>\n",
       "      <td>0</td>\n",
       "    </tr>\n",
       "    <tr>\n",
       "      <th>7062334</th>\n",
       "      <td>слива черная пантера 1кг</td>\n",
       "      <td>-1</td>\n",
       "      <td>слива_черная_пантера</td>\n",
       "      <td>0</td>\n",
       "    </tr>\n",
       "    <tr>\n",
       "      <th>7062335</th>\n",
       "      <td>яблоки дискавери 1кг молдова</td>\n",
       "      <td>-1</td>\n",
       "      <td>яблоки_дискавери_молдова</td>\n",
       "      <td>0</td>\n",
       "    </tr>\n",
       "  </tbody>\n",
       "</table>\n",
       "<p>7062336 rows × 4 columns</p>\n",
       "</div>"
      ],
      "text/plain": [
       "                                                 item_name  category_id  \\\n",
       "0                         флуконазол капс 150мг №1 вертекс           -1   \n",
       "1                                           молоко 3,2%,шт           78   \n",
       "2         борщ станичный с тушенкой, 103 ккал (завод, з/у)           -1   \n",
       "3                                компот из изюма, 114 ккал           71   \n",
       "4        макаронные изделия отварные (масло сливочное),...           71   \n",
       "...                                                    ...          ...   \n",
       "7062331                                 виноград тайфи 1кг           -1   \n",
       "7062332                           сочень с творогом 110 гр           -1   \n",
       "7062333                                         трк-25 кпг           -1   \n",
       "7062334                           слива черная пантера 1кг           -1   \n",
       "7062335                       яблоки дискавери 1кг молдова           -1   \n",
       "\n",
       "                                                   items_  cat_84  \n",
       "0                                 флуконазол_капс_вертекс       0  \n",
       "1                                                  молоко       0  \n",
       "2                      борщ_станичный_тушенкой_ккал_завод       0  \n",
       "3                                       компот_изюма_ккал       0  \n",
       "4        макаронные_изделия_отварные_масло_сливочное_ккал       0  \n",
       "...                                                   ...     ...  \n",
       "7062331                                    виноград_тайфи       0  \n",
       "7062332                                   сочень_творогом      84  \n",
       "7062333                                                         0  \n",
       "7062334                              слива_черная_пантера       0  \n",
       "7062335                          яблоки_дискавери_молдова       0  \n",
       "\n",
       "[7062336 rows x 4 columns]"
      ]
     },
     "metadata": {},
     "output_type": "display_data"
    }
   ],
   "source": [
    "display(train_short)"
   ]
  },
  {
   "cell_type": "code",
   "execution_count": 175,
   "metadata": {},
   "outputs": [
    {
     "name": "stdout",
     "output_type": "stream",
     "text": [
      "<class 'pandas.core.frame.DataFrame'>\n",
      "Int64Index: 189912 entries, 24 to 7062332\n",
      "Data columns (total 4 columns):\n",
      " #   Column       Non-Null Count   Dtype \n",
      "---  ------       --------------   ----- \n",
      " 0   item_name    189912 non-null  object\n",
      " 1   category_id  189912 non-null  int64 \n",
      " 2   items_       189912 non-null  object\n",
      " 3   cat_84       189912 non-null  int64 \n",
      "dtypes: int64(2), object(2)\n",
      "memory usage: 7.2+ MB\n"
     ]
    }
   ],
   "source": [
    "train_origin_cat_84 = train_short.query('category_id == 84 or cat_84 == 84 ')\n",
    "train_origin_cat_84.info()"
   ]
  },
  {
   "cell_type": "code",
   "execution_count": 176,
   "metadata": {},
   "outputs": [
    {
     "data": {
      "text/html": [
       "<div>\n",
       "<style scoped>\n",
       "    .dataframe tbody tr th:only-of-type {\n",
       "        vertical-align: middle;\n",
       "    }\n",
       "\n",
       "    .dataframe tbody tr th {\n",
       "        vertical-align: top;\n",
       "    }\n",
       "\n",
       "    .dataframe thead th {\n",
       "        text-align: right;\n",
       "    }\n",
       "</style>\n",
       "<table border=\"1\" class=\"dataframe\">\n",
       "  <thead>\n",
       "    <tr style=\"text-align: right;\">\n",
       "      <th></th>\n",
       "      <th>item_name</th>\n",
       "      <th>category_id</th>\n",
       "      <th>items_</th>\n",
       "      <th>cat_84</th>\n",
       "    </tr>\n",
       "  </thead>\n",
       "  <tbody>\n",
       "    <tr>\n",
       "      <th>24</th>\n",
       "      <td>хлеб на сыворотке 350г</td>\n",
       "      <td>84</td>\n",
       "      <td>хлеб_сыворотке</td>\n",
       "      <td>84</td>\n",
       "    </tr>\n",
       "    <tr>\n",
       "      <th>34</th>\n",
       "      <td>сосиска в тесте с сыром 1шт ге</td>\n",
       "      <td>84</td>\n",
       "      <td>сосиска_тесте_сыром</td>\n",
       "      <td>84</td>\n",
       "    </tr>\n",
       "    <tr>\n",
       "      <th>48</th>\n",
       "      <td>лаваш 300г</td>\n",
       "      <td>-1</td>\n",
       "      <td>лаваш</td>\n",
       "      <td>84</td>\n",
       "    </tr>\n",
       "    <tr>\n",
       "      <th>57</th>\n",
       "      <td>курник 1 шт.</td>\n",
       "      <td>84</td>\n",
       "      <td>курник</td>\n",
       "      <td>84</td>\n",
       "    </tr>\n",
       "    <tr>\n",
       "      <th>58</th>\n",
       "      <td>самса с курицей</td>\n",
       "      <td>-1</td>\n",
       "      <td>самса_курицей</td>\n",
       "      <td>84</td>\n",
       "    </tr>\n",
       "    <tr>\n",
       "      <th>...</th>\n",
       "      <td>...</td>\n",
       "      <td>...</td>\n",
       "      <td>...</td>\n",
       "      <td>...</td>\n",
       "    </tr>\n",
       "    <tr>\n",
       "      <th>7061949</th>\n",
       "      <td>хлеб домашний 0.5</td>\n",
       "      <td>-1</td>\n",
       "      <td>хлеб_домашний</td>\n",
       "      <td>84</td>\n",
       "    </tr>\n",
       "    <tr>\n",
       "      <th>7062012</th>\n",
       "      <td>растег с рис и яйцом</td>\n",
       "      <td>84</td>\n",
       "      <td>растег_яйцом</td>\n",
       "      <td>84</td>\n",
       "    </tr>\n",
       "    <tr>\n",
       "      <th>7062055</th>\n",
       "      <td>печ. к кофе сахарное 1кг сладонеж</td>\n",
       "      <td>84</td>\n",
       "      <td>кофе_сахарное_сладонеж</td>\n",
       "      <td>84</td>\n",
       "    </tr>\n",
       "    <tr>\n",
       "      <th>7062173</th>\n",
       "      <td>яйцо (6-50) 1шт</td>\n",
       "      <td>-1</td>\n",
       "      <td>яйцо</td>\n",
       "      <td>84</td>\n",
       "    </tr>\n",
       "    <tr>\n",
       "      <th>7062332</th>\n",
       "      <td>сочень с творогом 110 гр</td>\n",
       "      <td>-1</td>\n",
       "      <td>сочень_творогом</td>\n",
       "      <td>84</td>\n",
       "    </tr>\n",
       "  </tbody>\n",
       "</table>\n",
       "<p>189912 rows × 4 columns</p>\n",
       "</div>"
      ],
      "text/plain": [
       "                                 item_name  category_id  \\\n",
       "24                  хлеб на сыворотке 350г           84   \n",
       "34          сосиска в тесте с сыром 1шт ге           84   \n",
       "48                              лаваш 300г           -1   \n",
       "57                            курник 1 шт.           84   \n",
       "58                         самса с курицей           -1   \n",
       "...                                    ...          ...   \n",
       "7061949                  хлеб домашний 0.5           -1   \n",
       "7062012               растег с рис и яйцом           84   \n",
       "7062055  печ. к кофе сахарное 1кг сладонеж           84   \n",
       "7062173                    яйцо (6-50) 1шт           -1   \n",
       "7062332           сочень с творогом 110 гр           -1   \n",
       "\n",
       "                         items_  cat_84  \n",
       "24               хлеб_сыворотке      84  \n",
       "34          сосиска_тесте_сыром      84  \n",
       "48                        лаваш      84  \n",
       "57                       курник      84  \n",
       "58                самса_курицей      84  \n",
       "...                         ...     ...  \n",
       "7061949           хлеб_домашний      84  \n",
       "7062012            растег_яйцом      84  \n",
       "7062055  кофе_сахарное_сладонеж      84  \n",
       "7062173                    яйцо      84  \n",
       "7062332         сочень_творогом      84  \n",
       "\n",
       "[189912 rows x 4 columns]"
      ]
     },
     "execution_count": 176,
     "metadata": {},
     "output_type": "execute_result"
    }
   ],
   "source": [
    "train_origin_cat_84"
   ]
  },
  {
   "cell_type": "code",
   "execution_count": 177,
   "metadata": {},
   "outputs": [
    {
     "data": {
      "text/html": [
       "<div>\n",
       "<style scoped>\n",
       "    .dataframe tbody tr th:only-of-type {\n",
       "        vertical-align: middle;\n",
       "    }\n",
       "\n",
       "    .dataframe tbody tr th {\n",
       "        vertical-align: top;\n",
       "    }\n",
       "\n",
       "    .dataframe thead th {\n",
       "        text-align: right;\n",
       "    }\n",
       "</style>\n",
       "<table border=\"1\" class=\"dataframe\">\n",
       "  <thead>\n",
       "    <tr style=\"text-align: right;\">\n",
       "      <th></th>\n",
       "      <th>item_name</th>\n",
       "      <th>category_id</th>\n",
       "      <th>items_</th>\n",
       "      <th>cat_84</th>\n",
       "    </tr>\n",
       "  </thead>\n",
       "  <tbody>\n",
       "    <tr>\n",
       "      <th>24</th>\n",
       "      <td>хлеб на сыворотке 350г</td>\n",
       "      <td>84</td>\n",
       "      <td>хлеб_сыворотке</td>\n",
       "      <td>84</td>\n",
       "    </tr>\n",
       "    <tr>\n",
       "      <th>34</th>\n",
       "      <td>сосиска в тесте с сыром 1шт ге</td>\n",
       "      <td>84</td>\n",
       "      <td>сосиска_тесте_сыром</td>\n",
       "      <td>84</td>\n",
       "    </tr>\n",
       "    <tr>\n",
       "      <th>48</th>\n",
       "      <td>лаваш 300г</td>\n",
       "      <td>84</td>\n",
       "      <td>лаваш</td>\n",
       "      <td>84</td>\n",
       "    </tr>\n",
       "    <tr>\n",
       "      <th>57</th>\n",
       "      <td>курник 1 шт.</td>\n",
       "      <td>84</td>\n",
       "      <td>курник</td>\n",
       "      <td>84</td>\n",
       "    </tr>\n",
       "    <tr>\n",
       "      <th>58</th>\n",
       "      <td>самса с курицей</td>\n",
       "      <td>84</td>\n",
       "      <td>самса_курицей</td>\n",
       "      <td>84</td>\n",
       "    </tr>\n",
       "    <tr>\n",
       "      <th>...</th>\n",
       "      <td>...</td>\n",
       "      <td>...</td>\n",
       "      <td>...</td>\n",
       "      <td>...</td>\n",
       "    </tr>\n",
       "    <tr>\n",
       "      <th>7061949</th>\n",
       "      <td>хлеб домашний 0.5</td>\n",
       "      <td>84</td>\n",
       "      <td>хлеб_домашний</td>\n",
       "      <td>84</td>\n",
       "    </tr>\n",
       "    <tr>\n",
       "      <th>7062012</th>\n",
       "      <td>растег с рис и яйцом</td>\n",
       "      <td>84</td>\n",
       "      <td>растег_яйцом</td>\n",
       "      <td>84</td>\n",
       "    </tr>\n",
       "    <tr>\n",
       "      <th>7062055</th>\n",
       "      <td>печ. к кофе сахарное 1кг сладонеж</td>\n",
       "      <td>84</td>\n",
       "      <td>кофе_сахарное_сладонеж</td>\n",
       "      <td>84</td>\n",
       "    </tr>\n",
       "    <tr>\n",
       "      <th>7062173</th>\n",
       "      <td>яйцо (6-50) 1шт</td>\n",
       "      <td>84</td>\n",
       "      <td>яйцо</td>\n",
       "      <td>84</td>\n",
       "    </tr>\n",
       "    <tr>\n",
       "      <th>7062332</th>\n",
       "      <td>сочень с творогом 110 гр</td>\n",
       "      <td>84</td>\n",
       "      <td>сочень_творогом</td>\n",
       "      <td>84</td>\n",
       "    </tr>\n",
       "  </tbody>\n",
       "</table>\n",
       "<p>189912 rows × 4 columns</p>\n",
       "</div>"
      ],
      "text/plain": [
       "                                 item_name  category_id  \\\n",
       "24                  хлеб на сыворотке 350г           84   \n",
       "34          сосиска в тесте с сыром 1шт ге           84   \n",
       "48                              лаваш 300г           84   \n",
       "57                            курник 1 шт.           84   \n",
       "58                         самса с курицей           84   \n",
       "...                                    ...          ...   \n",
       "7061949                  хлеб домашний 0.5           84   \n",
       "7062012               растег с рис и яйцом           84   \n",
       "7062055  печ. к кофе сахарное 1кг сладонеж           84   \n",
       "7062173                    яйцо (6-50) 1шт           84   \n",
       "7062332           сочень с творогом 110 гр           84   \n",
       "\n",
       "                         items_  cat_84  \n",
       "24               хлеб_сыворотке      84  \n",
       "34          сосиска_тесте_сыром      84  \n",
       "48                        лаваш      84  \n",
       "57                       курник      84  \n",
       "58                самса_курицей      84  \n",
       "...                         ...     ...  \n",
       "7061949           хлеб_домашний      84  \n",
       "7062012            растег_яйцом      84  \n",
       "7062055  кофе_сахарное_сладонеж      84  \n",
       "7062173                    яйцо      84  \n",
       "7062332         сочень_творогом      84  \n",
       "\n",
       "[189912 rows x 4 columns]"
      ]
     },
     "execution_count": 177,
     "metadata": {},
     "output_type": "execute_result"
    }
   ],
   "source": [
    "# засунем cat_84 в category_id\n",
    "# меняем только в тех признаках, где есть -1\n",
    "train_origin_cat_84.loc[train_origin_cat_84['category_id'] == -1, 'category_id'] = 84\n",
    "train_origin_cat_84"
   ]
  },
  {
   "cell_type": "markdown",
   "metadata": {},
   "source": [
    "**выбираем только категорию - далее мы ее прибавим к сету origin+71**"
   ]
  },
  {
   "cell_type": "code",
   "execution_count": 178,
   "metadata": {},
   "outputs": [],
   "source": [
    "# сохраняем неразмеченную обрезанную выборку все !=-1 и + к этому доп размеченную категорию 71\n",
    "train_origin_cat_84.to_parquet('train_origin_cat_84')"
   ]
  },
  {
   "cell_type": "markdown",
   "metadata": {},
   "source": [
    "### объединим train_origin_cat_84 и train_origin_cat_71"
   ]
  },
  {
   "cell_type": "code",
   "execution_count": 181,
   "metadata": {},
   "outputs": [],
   "source": [
    "train_origin_cat_71 = pd.read_parquet('train_origin_cat_71')"
   ]
  },
  {
   "cell_type": "code",
   "execution_count": 182,
   "metadata": {},
   "outputs": [],
   "source": [
    "train_origin_cat_84 = pd.read_parquet('train_origin_cat_84')"
   ]
  },
  {
   "cell_type": "code",
   "execution_count": 183,
   "metadata": {},
   "outputs": [],
   "source": [
    "train_extend = pd.concat([train_origin_cat_71, train_origin_cat_84])"
   ]
  },
  {
   "cell_type": "code",
   "execution_count": 188,
   "metadata": {},
   "outputs": [
    {
     "name": "stdout",
     "output_type": "stream",
     "text": [
      "category_id\n",
      "80     363370\n",
      "84     254142\n",
      "71     228083\n",
      "79      64912\n",
      "78      39283\n",
      "        ...  \n",
      "100        30\n",
      "46         27\n",
      "97         25\n",
      "143         4\n",
      "121         1\n",
      "Name: category_id, Length: 98, dtype: int64\n"
     ]
    }
   ],
   "source": [
    "print(train_extend.groupby('category_id')['category_id'].count().sort_values(ascending = False))"
   ]
  },
  {
   "cell_type": "code",
   "execution_count": 189,
   "metadata": {},
   "outputs": [],
   "source": [
    "train_extend.to_parquet('train_extend')"
   ]
  },
  {
   "cell_type": "markdown",
   "metadata": {},
   "source": [
    "**сделаем oversampling**"
   ]
  },
  {
   "cell_type": "markdown",
   "metadata": {},
   "source": [
    "# ВЕКТОРИЗАЦИЯ --- TfidfVectorizer"
   ]
  },
  {
   "cell_type": "code",
   "execution_count": 7,
   "metadata": {},
   "outputs": [],
   "source": [
    "stop = stopwords.words('russian')"
   ]
  },
  {
   "cell_type": "code",
   "execution_count": 33,
   "metadata": {},
   "outputs": [],
   "source": [
    "train_origin = pd.read_parquet('train_origin')"
   ]
  },
  {
   "cell_type": "code",
   "execution_count": 35,
   "metadata": {},
   "outputs": [],
   "source": [
    "train_origin = train_origin.drop(['items_', 'cat_71'], axis='columns')"
   ]
  },
  {
   "cell_type": "code",
   "execution_count": 195,
   "metadata": {},
   "outputs": [],
   "source": [
    "train_extend = pd.read_parquet('train_extend').drop(['items_', 'cat_84', 'cat_71'], axis='columns').drop_duplicates()"
   ]
  },
  {
   "cell_type": "code",
   "execution_count": 44,
   "metadata": {},
   "outputs": [
    {
     "name": "stdout",
     "output_type": "stream",
     "text": [
      "0\n"
     ]
    }
   ],
   "source": [
    "print(train_origin.duplicated().sum())"
   ]
  },
  {
   "cell_type": "code",
   "execution_count": 43,
   "metadata": {},
   "outputs": [],
   "source": [
    "train_origin= train_origin.drop_duplicates()"
   ]
  },
  {
   "cell_type": "code",
   "execution_count": 196,
   "metadata": {},
   "outputs": [
    {
     "name": "stdout",
     "output_type": "stream",
     "text": [
      "<class 'pandas.core.frame.DataFrame'>\n",
      "Int64Index: 131524 entries, 1 to 7062173\n",
      "Data columns (total 2 columns):\n",
      " #   Column       Non-Null Count   Dtype \n",
      "---  ------       --------------   ----- \n",
      " 0   item_name    131524 non-null  object\n",
      " 1   category_id  131524 non-null  int64 \n",
      "dtypes: int64(1), object(1)\n",
      "memory usage: 3.0+ MB\n"
     ]
    }
   ],
   "source": [
    "train_extend.info()"
   ]
  },
  {
   "cell_type": "code",
   "execution_count": 45,
   "metadata": {},
   "outputs": [],
   "source": [
    "train_origin_cat_71= train_origin_cat_71.drop_duplicates()"
   ]
  },
  {
   "cell_type": "markdown",
   "metadata": {},
   "source": [
    "### train_origin"
   ]
  },
  {
   "cell_type": "code",
   "execution_count": 47,
   "metadata": {},
   "outputs": [],
   "source": [
    "tfidf_orig = TfidfVectorizer(stop_words=stop, max_features=100000)\n",
    "X_train_orig = tfidf_orig.fit_transform(train_origin.item_name)\n",
    "y_train_orig = train_origin['category_id']"
   ]
  },
  {
   "cell_type": "code",
   "execution_count": 48,
   "metadata": {},
   "outputs": [
    {
     "name": "stdout",
     "output_type": "stream",
     "text": [
      "(48018, 37160)\n"
     ]
    }
   ],
   "source": [
    "print(X_train_orig.shape)"
   ]
  },
  {
   "cell_type": "markdown",
   "metadata": {},
   "source": [
    "### train_extend (cat_71 + cat_84)"
   ]
  },
  {
   "cell_type": "code",
   "execution_count": 197,
   "metadata": {},
   "outputs": [],
   "source": [
    "tfidf_ext = TfidfVectorizer(stop_words=stop, max_features=100000)\n",
    "X_train_extend = tfidf_ext.fit_transform(train_extend.item_name)\n",
    "y_train_extend = train_extend['category_id']"
   ]
  },
  {
   "cell_type": "code",
   "execution_count": 237,
   "metadata": {},
   "outputs": [
    {
     "name": "stdout",
     "output_type": "stream",
     "text": [
      "(131524, 40535)\n"
     ]
    }
   ],
   "source": [
    "print(X_train_extend.shape)"
   ]
  },
  {
   "cell_type": "markdown",
   "metadata": {},
   "source": [
    "**RandomOverSampler:**"
   ]
  },
  {
   "cell_type": "code",
   "execution_count": 236,
   "metadata": {},
   "outputs": [],
   "source": [
    "from imblearn.over_sampling import RandomOverSampler\n",
    "\n",
    "\n",
    "ros = RandomOverSampler(random_state=777)\n",
    "X_train_extend_ROS, y_train_extend_ROS = ros.fit_sample(X_train_extend, y_train_extend)"
   ]
  },
  {
   "cell_type": "code",
   "execution_count": 238,
   "metadata": {},
   "outputs": [
    {
     "name": "stdout",
     "output_type": "stream",
     "text": [
      "(4711938, 40535)\n"
     ]
    }
   ],
   "source": [
    "print(X_train_extend_ROS.shape)"
   ]
  },
  {
   "cell_type": "markdown",
   "metadata": {},
   "source": [
    "# РЕЗУЛЬТАТЫ"
   ]
  },
  {
   "cell_type": "markdown",
   "metadata": {},
   "source": [
    "# LinearSVC"
   ]
  },
  {
   "cell_type": "markdown",
   "metadata": {},
   "source": [
    "**1_1 расчет baseline - исходный сет**"
   ]
  },
  {
   "cell_type": "code",
   "execution_count": 51,
   "metadata": {},
   "outputs": [
    {
     "name": "stdout",
     "output_type": "stream",
     "text": [
      "CPU times: user 2min 13s, sys: 580 ms, total: 2min 13s\n",
      "Wall time: 2min 14s\n"
     ]
    }
   ],
   "source": [
    "%%time\n",
    "clf_1_1 = LinearSVC(max_iter=400, class_weight='balanced', random_state=12345)\n",
    "scores_1_1 = cross_val_score(clf_1_1, X_train_orig, y_train_orig, cv=8, scoring='f1_weighted')"
   ]
  },
  {
   "cell_type": "code",
   "execution_count": 52,
   "metadata": {},
   "outputs": [
    {
     "data": {
      "text/plain": [
       "0.8097410199635287"
      ]
     },
     "execution_count": 52,
     "metadata": {},
     "output_type": "execute_result"
    }
   ],
   "source": [
    "np.mean(scores_1_1)"
   ]
  },
  {
   "attachments": {
    "b914d0a4-0c46-4ca8-a675-252c9f85b607.png": {
     "image/png": "[encoded data removed]"
    }
   },
   "cell_type": "markdown",
   "metadata": {},
   "source": [
    "![image.png](attachment:b914d0a4-0c46-4ca8-a675-252c9f85b607.png)"
   ]
  },
  {
   "cell_type": "markdown",
   "metadata": {},
   "source": [
    "**1_2 расчет baseline + новая выборка для cat_71 + 84**"
   ]
  },
  {
   "cell_type": "code",
   "execution_count": null,
   "metadata": {},
   "outputs": [],
   "source": [
    "%%time\n",
    "clf_1_4 = LinearSVC(max_iter=400, random_state=12345)\n",
    "scores_1_4 = cross_val_score(clf_1_4, X_train_extend_ROS, y_train_extend_ROS, cv=3, scoring='f1_weighted')"
   ]
  },
  {
   "cell_type": "code",
   "execution_count": null,
   "metadata": {},
   "outputs": [],
   "source": [
    "np.mean(scores_1_4)"
   ]
  },
  {
   "attachments": {
    "88316648-4309-49b0-bad7-0064acb742ae.png": {
     "image/png": "[encoded data removed]"
    }
   },
   "cell_type": "markdown",
   "metadata": {},
   "source": [
    "оригинальный + 71 + 84  cv=8\n",
    "![image.png](attachment:88316648-4309-49b0-bad7-0064acb742ae.png)"
   ]
  },
  {
   "attachments": {
    "57975fc2-c115-4faa-9b98-f1fa87ab8a88.png": {
     "image/png": "[encoded data removed]"
    }
   },
   "cell_type": "markdown",
   "metadata": {},
   "source": [
    "огигинальный + 71  cv=8\n",
    "![image.png](attachment:57975fc2-c115-4faa-9b98-f1fa87ab8a88.png)"
   ]
  },
  {
   "attachments": {
    "91801d82-8cac-46ac-89bb-2bf1016baffc.png": {
     "image/png": "[encoded data removed]"
    }
   },
   "cell_type": "markdown",
   "metadata": {},
   "source": [
    "![image.png](attachment:91801d82-8cac-46ac-89bb-2bf1016baffc.png)"
   ]
  },
  {
   "cell_type": "code",
   "execution_count": 201,
   "metadata": {},
   "outputs": [
    {
     "data": {
      "text/plain": [
       "LinearSVC(class_weight='balanced', max_iter=400, random_state=12345)"
      ]
     },
     "execution_count": 201,
     "metadata": {},
     "output_type": "execute_result"
    }
   ],
   "source": [
    "clf_1_3.fit(X_train_extend, y_train_extend)"
   ]
  },
  {
   "cell_type": "markdown",
   "metadata": {},
   "source": [
    "## подготовка данных для загрузки на сайт"
   ]
  },
  {
   "cell_type": "code",
   "execution_count": 207,
   "metadata": {},
   "outputs": [],
   "source": [
    "tfidf = tfidf_ext\n",
    "clf = clf_1_3"
   ]
  },
  {
   "cell_type": "code",
   "execution_count": 208,
   "metadata": {},
   "outputs": [],
   "source": [
    "import pickle\n",
    "\n",
    "pickle.dump(tfidf, open('t1_sub/tfidf', 'wb'))\n",
    "pickle.dump(clf, open('t1_sub/clf_task1', 'wb'))"
   ]
  },
  {
   "cell_type": "code",
   "execution_count": 209,
   "metadata": {},
   "outputs": [
    {
     "name": "stdout",
     "output_type": "stream",
     "text": [
      "total 68344\n",
      "-rw-r--r--@ 1 romanfomin  staff    30M Feb 15 14:18 clf_task1\n",
      "-rw-r--r--@ 1 romanfomin  staff   372B Jan 24 11:54 script.py\n",
      "-rw-r--r--@ 1 romanfomin  staff   1.3M Feb 15 14:18 tfidf\n"
     ]
    }
   ],
   "source": [
    "!ls -lh t1_sub"
   ]
  },
  {
   "cell_type": "code",
   "execution_count": 210,
   "metadata": {},
   "outputs": [
    {
     "name": "stdout",
     "output_type": "stream",
     "text": [
      "['clf_task1', 'tfidf', 'script.py']\n"
     ]
    }
   ],
   "source": [
    "import zipfile \n",
    "compression = zipfile.ZIP_DEFLATED\n",
    "\n",
    "debutants = 't1_sub/submission.zip'\n",
    "\n",
    "with zipfile.ZipFile(debutants, 'w') as zipObj:\n",
    "    for filename in ['clf_task1', 'tfidf', 'script.py']:\n",
    "        zipObj.write(\n",
    "            f't1_sub/{filename}', \n",
    "            arcname=filename, \n",
    "            compress_type=compression\n",
    "        )\n",
    "    print(zipObj.namelist())\n",
    "\n"
   ]
  },
  {
   "cell_type": "code",
   "execution_count": 211,
   "metadata": {},
   "outputs": [
    {
     "name": "stdout",
     "output_type": "stream",
     "text": [
      "-rw-r--r--  1 romanfomin  staff   6.6M Feb 15 14:18 t1_sub/submission.zip\n"
     ]
    }
   ],
   "source": [
    "!ls -lh {debutants}"
   ]
  },
  {
   "cell_type": "code",
   "execution_count": null,
   "metadata": {},
   "outputs": [],
   "source": []
  }
 ],
 "metadata": {
  "kernelspec": {
   "display_name": "Python 3",
   "language": "python",
   "name": "python3"
  },
  "language_info": {
   "codemirror_mode": {
    "name": "ipython",
    "version": 3
   },
   "file_extension": ".py",
   "mimetype": "text/x-python",
   "name": "python",
   "nbconvert_exporter": "python",
   "pygments_lexer": "ipython3",
   "version": "3.8.3"
  }
 },
 "nbformat": 4,
 "nbformat_minor": 4
}
