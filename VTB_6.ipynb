{
 "cells": [
  {
   "cell_type": "code",
   "execution_count": 1,
   "metadata": {},
   "outputs": [],
   "source": [
    "import pandas as pd"
   ]
  },
  {
   "cell_type": "code",
   "execution_count": 2,
   "metadata": {},
   "outputs": [],
   "source": [
    "from sklearn.linear_model import LogisticRegression\n",
    "from sklearn.svm import LinearSVC\n",
    "from sklearn.model_selection import cross_val_score\n",
    "from sklearn.feature_extraction.text import TfidfVectorizer\n",
    "from nltk.corpus import stopwords \n",
    "\n",
    "from sklearn.metrics import f1_score, make_scorer\n",
    "import numpy as np\n",
    "\n",
    "# отключение предупреждений\n",
    "import warnings; warnings.filterwarnings(\"ignore\", category=Warning)"
   ]
  },
  {
   "cell_type": "code",
   "execution_count": 3,
   "metadata": {},
   "outputs": [],
   "source": [
    "from collections import Counter\n",
    "import re\n",
    "import pymorphy2"
   ]
  },
  {
   "cell_type": "code",
   "execution_count": 4,
   "metadata": {},
   "outputs": [],
   "source": [
    "import nltk\n",
    "#nltk.download('stopwords')"
   ]
  },
  {
   "cell_type": "code",
   "execution_count": 5,
   "metadata": {},
   "outputs": [],
   "source": [
    "from nltk import word_tokenize\n",
    "import nltk\n",
    "#nltk.download('punkt')"
   ]
  },
  {
   "cell_type": "code",
   "execution_count": 6,
   "metadata": {},
   "outputs": [],
   "source": [
    "from sklearn.dummy import DummyClassifier\n",
    "from sklearn.tree import DecisionTreeClassifier\n",
    "from sklearn.ensemble import RandomForestClassifier\n",
    "from sklearn.neighbors import KNeighborsClassifier\n",
    "from sklearn.ensemble import GradientBoostingClassifier\n",
    "#from catboost import CatBoostClassifie"
   ]
  },
  {
   "cell_type": "markdown",
   "metadata": {},
   "source": [
    "# грузим сеты"
   ]
  },
  {
   "cell_type": "code",
   "execution_count": 7,
   "metadata": {},
   "outputs": [],
   "source": [
    "# исходный сет \n",
    "train_short = pd.read_parquet('train_short')\n",
    "\n",
    "# токенизированный сет + убрал дубликаты и пропуски\n",
    "train_short_tokin = pd.read_parquet('train_short_token')\n",
    "train_short_tokin.rename(columns={'tokenized_sents_text': 'item_name'}, inplace=True)"
   ]
  },
  {
   "cell_type": "code",
   "execution_count": 8,
   "metadata": {},
   "outputs": [
    {
     "data": {
      "text/html": [
       "<div>\n",
       "<style scoped>\n",
       "    .dataframe tbody tr th:only-of-type {\n",
       "        vertical-align: middle;\n",
       "    }\n",
       "\n",
       "    .dataframe tbody tr th {\n",
       "        vertical-align: top;\n",
       "    }\n",
       "\n",
       "    .dataframe thead th {\n",
       "        text-align: right;\n",
       "    }\n",
       "</style>\n",
       "<table border=\"1\" class=\"dataframe\">\n",
       "  <thead>\n",
       "    <tr style=\"text-align: right;\">\n",
       "      <th></th>\n",
       "      <th>item_name</th>\n",
       "      <th>category_id</th>\n",
       "    </tr>\n",
       "  </thead>\n",
       "  <tbody>\n",
       "    <tr>\n",
       "      <th>0</th>\n",
       "      <td>молоко 3,2%,шт</td>\n",
       "      <td>78</td>\n",
       "    </tr>\n",
       "    <tr>\n",
       "      <th>1</th>\n",
       "      <td>компот из изюма, 114 ккал</td>\n",
       "      <td>71</td>\n",
       "    </tr>\n",
       "    <tr>\n",
       "      <th>2</th>\n",
       "      <td>макаронные изделия отварные (масло сливочное),...</td>\n",
       "      <td>71</td>\n",
       "    </tr>\n",
       "    <tr>\n",
       "      <th>3</th>\n",
       "      <td>кофе капучино большой эден 18</td>\n",
       "      <td>70</td>\n",
       "    </tr>\n",
       "    <tr>\n",
       "      <th>4</th>\n",
       "      <td>хлеб на сыворотке 350г</td>\n",
       "      <td>84</td>\n",
       "    </tr>\n",
       "    <tr>\n",
       "      <th>...</th>\n",
       "      <td>...</td>\n",
       "      <td>...</td>\n",
       "    </tr>\n",
       "    <tr>\n",
       "      <th>47960</th>\n",
       "      <td>напиток энерг. ред булл 0,355л</td>\n",
       "      <td>83</td>\n",
       "    </tr>\n",
       "    <tr>\n",
       "      <th>47961</th>\n",
       "      <td>хеменгуэй дайкири</td>\n",
       "      <td>0</td>\n",
       "    </tr>\n",
       "    <tr>\n",
       "      <th>47962</th>\n",
       "      <td>пиво светлое \"халзан\" 4,5 % об, пл/б. 1,5 л(шт)</td>\n",
       "      <td>0</td>\n",
       "    </tr>\n",
       "    <tr>\n",
       "      <th>47963</th>\n",
       "      <td>экспресс педикюр</td>\n",
       "      <td>42</td>\n",
       "    </tr>\n",
       "    <tr>\n",
       "      <th>47964</th>\n",
       "      <td>конфеты харитоша 1кг мол. ваф яшкино</td>\n",
       "      <td>84</td>\n",
       "    </tr>\n",
       "  </tbody>\n",
       "</table>\n",
       "<p>47965 rows × 2 columns</p>\n",
       "</div>"
      ],
      "text/plain": [
       "                                               item_name  category_id\n",
       "0                                         молоко 3,2%,шт           78\n",
       "1                              компот из изюма, 114 ккал           71\n",
       "2      макаронные изделия отварные (масло сливочное),...           71\n",
       "3                          кофе капучино большой эден 18           70\n",
       "4                                 хлеб на сыворотке 350г           84\n",
       "...                                                  ...          ...\n",
       "47960                     напиток энерг. ред булл 0,355л           83\n",
       "47961                                  хеменгуэй дайкири            0\n",
       "47962    пиво светлое \"халзан\" 4,5 % об, пл/б. 1,5 л(шт)            0\n",
       "47963                                   экспресс педикюр           42\n",
       "47964               конфеты харитоша 1кг мол. ваф яшкино           84\n",
       "\n",
       "[47965 rows x 2 columns]"
      ]
     },
     "execution_count": 8,
     "metadata": {},
     "output_type": "execute_result"
    }
   ],
   "source": [
    "train_short"
   ]
  },
  {
   "cell_type": "code",
   "execution_count": 9,
   "metadata": {},
   "outputs": [
    {
     "data": {
      "text/html": [
       "<div>\n",
       "<style scoped>\n",
       "    .dataframe tbody tr th:only-of-type {\n",
       "        vertical-align: middle;\n",
       "    }\n",
       "\n",
       "    .dataframe tbody tr th {\n",
       "        vertical-align: top;\n",
       "    }\n",
       "\n",
       "    .dataframe thead th {\n",
       "        text-align: right;\n",
       "    }\n",
       "</style>\n",
       "<table border=\"1\" class=\"dataframe\">\n",
       "  <thead>\n",
       "    <tr style=\"text-align: right;\">\n",
       "      <th></th>\n",
       "      <th>category_id</th>\n",
       "      <th>item_name</th>\n",
       "    </tr>\n",
       "  </thead>\n",
       "  <tbody>\n",
       "    <tr>\n",
       "      <th>0</th>\n",
       "      <td>78</td>\n",
       "      <td>молоко</td>\n",
       "    </tr>\n",
       "    <tr>\n",
       "      <th>1</th>\n",
       "      <td>71</td>\n",
       "      <td>компот изюма ккал</td>\n",
       "    </tr>\n",
       "    <tr>\n",
       "      <th>2</th>\n",
       "      <td>71</td>\n",
       "      <td>макаронные изделия отварные масло сливочное ккал</td>\n",
       "    </tr>\n",
       "    <tr>\n",
       "      <th>3</th>\n",
       "      <td>70</td>\n",
       "      <td>кофе капучино большой эден</td>\n",
       "    </tr>\n",
       "    <tr>\n",
       "      <th>4</th>\n",
       "      <td>84</td>\n",
       "      <td>хлеб сыворотке</td>\n",
       "    </tr>\n",
       "    <tr>\n",
       "      <th>...</th>\n",
       "      <td>...</td>\n",
       "      <td>...</td>\n",
       "    </tr>\n",
       "    <tr>\n",
       "      <th>43265</th>\n",
       "      <td>84</td>\n",
       "      <td>зефир шпек дульчия</td>\n",
       "    </tr>\n",
       "    <tr>\n",
       "      <th>43266</th>\n",
       "      <td>0</td>\n",
       "      <td>хеменгуэй дайкири</td>\n",
       "    </tr>\n",
       "    <tr>\n",
       "      <th>43267</th>\n",
       "      <td>0</td>\n",
       "      <td>пиво светлое халзан плб лшт</td>\n",
       "    </tr>\n",
       "    <tr>\n",
       "      <th>43268</th>\n",
       "      <td>42</td>\n",
       "      <td>экспресс педикюр</td>\n",
       "    </tr>\n",
       "    <tr>\n",
       "      <th>43269</th>\n",
       "      <td>84</td>\n",
       "      <td>конфеты харитоша мол ваф яшкино</td>\n",
       "    </tr>\n",
       "  </tbody>\n",
       "</table>\n",
       "<p>43270 rows × 2 columns</p>\n",
       "</div>"
      ],
      "text/plain": [
       "       category_id                                         item_name\n",
       "0               78                                            молоко\n",
       "1               71                                 компот изюма ккал\n",
       "2               71  макаронные изделия отварные масло сливочное ккал\n",
       "3               70                        кофе капучино большой эден\n",
       "4               84                                    хлеб сыворотке\n",
       "...            ...                                               ...\n",
       "43265           84                                зефир шпек дульчия\n",
       "43266            0                                 хеменгуэй дайкири\n",
       "43267            0                       пиво светлое халзан плб лшт\n",
       "43268           42                                  экспресс педикюр\n",
       "43269           84                   конфеты харитоша мол ваф яшкино\n",
       "\n",
       "[43270 rows x 2 columns]"
      ]
     },
     "execution_count": 9,
     "metadata": {},
     "output_type": "execute_result"
    }
   ],
   "source": [
    "train_short_tokin"
   ]
  },
  {
   "cell_type": "code",
   "execution_count": 37,
   "metadata": {},
   "outputs": [
    {
     "data": {
      "text/html": [
       "<div>\n",
       "<style scoped>\n",
       "    .dataframe tbody tr th:only-of-type {\n",
       "        vertical-align: middle;\n",
       "    }\n",
       "\n",
       "    .dataframe tbody tr th {\n",
       "        vertical-align: top;\n",
       "    }\n",
       "\n",
       "    .dataframe thead th {\n",
       "        text-align: right;\n",
       "    }\n",
       "</style>\n",
       "<table border=\"1\" class=\"dataframe\">\n",
       "  <thead>\n",
       "    <tr style=\"text-align: right;\">\n",
       "      <th></th>\n",
       "      <th>category_id</th>\n",
       "      <th>item_name</th>\n",
       "    </tr>\n",
       "  </thead>\n",
       "  <tbody>\n",
       "    <tr>\n",
       "      <th>33078</th>\n",
       "      <td>130</td>\n",
       "      <td>гавайи</td>\n",
       "    </tr>\n",
       "    <tr>\n",
       "      <th>29952</th>\n",
       "      <td>130</td>\n",
       "      <td>бутылка irontrue</td>\n",
       "    </tr>\n",
       "    <tr>\n",
       "      <th>35963</th>\n",
       "      <td>81</td>\n",
       "      <td>попкорн crazy zebra сладкий</td>\n",
       "    </tr>\n",
       "    <tr>\n",
       "      <th>34121</th>\n",
       "      <td>83</td>\n",
       "      <td>мин вода фрутоняня артезианс</td>\n",
       "    </tr>\n",
       "    <tr>\n",
       "      <th>4721</th>\n",
       "      <td>75</td>\n",
       "      <td>зеленый горошек</td>\n",
       "    </tr>\n",
       "  </tbody>\n",
       "</table>\n",
       "</div>"
      ],
      "text/plain": [
       "       category_id                     item_name\n",
       "33078          130                        гавайи\n",
       "29952          130              бутылка irontrue\n",
       "35963           81   попкорн crazy zebra сладкий\n",
       "34121           83  мин вода фрутоняня артезианс\n",
       "4721            75               зеленый горошек"
      ]
     },
     "execution_count": 37,
     "metadata": {},
     "output_type": "execute_result"
    }
   ],
   "source": [
    "train_short_tokin.sample(5)"
   ]
  },
  {
   "cell_type": "markdown",
   "metadata": {},
   "source": [
    "# ВЕКТОРИЗАЦИЯ"
   ]
  },
  {
   "cell_type": "code",
   "execution_count": 10,
   "metadata": {},
   "outputs": [],
   "source": [
    "stop = stopwords.words('russian')"
   ]
  },
  {
   "cell_type": "markdown",
   "metadata": {},
   "source": [
    "### TfidfVectorizer (train_short_origin)"
   ]
  },
  {
   "cell_type": "markdown",
   "metadata": {},
   "source": [
    "**используется исходная таблица - нижний регистр, дубликаты**"
   ]
  },
  {
   "cell_type": "code",
   "execution_count": 11,
   "metadata": {},
   "outputs": [],
   "source": [
    "tfidf_bl = TfidfVectorizer(stop_words=stop, max_features=100000)\n",
    "X_train_bl = tfidf_bl.fit_transform(train_short.item_name)\n",
    "y_train_bl = train_short['category_id']"
   ]
  },
  {
   "cell_type": "code",
   "execution_count": 12,
   "metadata": {},
   "outputs": [
    {
     "name": "stdout",
     "output_type": "stream",
     "text": [
      "(47965, 37160)\n"
     ]
    }
   ],
   "source": [
    "print(X_train_bl.shape)"
   ]
  },
  {
   "cell_type": "markdown",
   "metadata": {},
   "source": [
    "## TfidfVectorizer (train_short) - только токинайзер"
   ]
  },
  {
   "cell_type": "markdown",
   "metadata": {},
   "source": [
    "**используется таблица train_short + токинайзинг**"
   ]
  },
  {
   "cell_type": "code",
   "execution_count": 13,
   "metadata": {},
   "outputs": [],
   "source": [
    "tfidf_tokin = TfidfVectorizer(stop_words=stop, max_features=100000)\n",
    "X_train_tokin = tfidf_tokin.fit_transform(train_short_tokin.item_name)\n",
    "y_train_tokin = train_short_tokin['category_id']"
   ]
  },
  {
   "cell_type": "code",
   "execution_count": 14,
   "metadata": {},
   "outputs": [
    {
     "name": "stdout",
     "output_type": "stream",
     "text": [
      "(43270, 37573)\n"
     ]
    }
   ],
   "source": [
    "print(X_train_tokin.shape)"
   ]
  },
  {
   "cell_type": "markdown",
   "metadata": {},
   "source": [
    "## 4 Случайный лес (параметры по умолчанию)"
   ]
  },
  {
   "cell_type": "code",
   "execution_count": 15,
   "metadata": {},
   "outputs": [],
   "source": [
    "clf_RF = RandomForestClassifier(class_weight='balanced', random_state=12345)"
   ]
  },
  {
   "cell_type": "markdown",
   "metadata": {},
   "source": [
    "### 4.1 на оригинальном сете"
   ]
  },
  {
   "cell_type": "code",
   "execution_count": 16,
   "metadata": {},
   "outputs": [
    {
     "name": "stdout",
     "output_type": "stream",
     "text": [
      "CPU times: user 18min 29s, sys: 16.3 s, total: 18min 45s\n",
      "Wall time: 19min 32s\n"
     ]
    }
   ],
   "source": [
    "%%time\n",
    "scores_4_1 = cross_val_score(clf_RF, X_train_bl, y_train_bl, cv=3, scoring='f1_weighted')"
   ]
  },
  {
   "cell_type": "code",
   "execution_count": 17,
   "metadata": {},
   "outputs": [
    {
     "data": {
      "text/plain": [
       "0.7404774552343675"
      ]
     },
     "execution_count": 17,
     "metadata": {},
     "output_type": "execute_result"
    }
   ],
   "source": [
    "np.mean(scores_4_1)"
   ]
  },
  {
   "attachments": {
    "4ce9054a-fbbc-4960-95d8-49a25e28cd1c.png": {
     "image/png": "[encoded data removed]"
    }
   },
   "cell_type": "markdown",
   "metadata": {},
   "source": [
    "![image.png](attachment:4ce9054a-fbbc-4960-95d8-49a25e28cd1c.png)"
   ]
  },
  {
   "cell_type": "markdown",
   "metadata": {},
   "source": [
    "### 4.2 на токенизированном сете "
   ]
  },
  {
   "cell_type": "code",
   "execution_count": 18,
   "metadata": {},
   "outputs": [
    {
     "name": "stdout",
     "output_type": "stream",
     "text": [
      "CPU times: user 18min 59s, sys: 16.5 s, total: 19min 15s\n",
      "Wall time: 20min 22s\n"
     ]
    }
   ],
   "source": [
    "%%time\n",
    "scores_4_2 = cross_val_score(clf_RF, X_train_tokin, y_train_tokin, cv=3, scoring='f1_weighted')"
   ]
  },
  {
   "cell_type": "code",
   "execution_count": 19,
   "metadata": {},
   "outputs": [
    {
     "data": {
      "text/plain": [
       "0.7121207270151076"
      ]
     },
     "execution_count": 19,
     "metadata": {},
     "output_type": "execute_result"
    }
   ],
   "source": [
    "np.mean(scores_4_2)"
   ]
  },
  {
   "attachments": {
    "63d0b216-e8ea-4ee7-858b-c35665f3c114.png": {
     "image/png": "[encoded data removed]"
    }
   },
   "cell_type": "markdown",
   "metadata": {},
   "source": [
    "![image.png](attachment:63d0b216-e8ea-4ee7-858b-c35665f3c114.png)"
   ]
  },
  {
   "cell_type": "markdown",
   "metadata": {},
   "source": [
    "## 5 Решающее дерево (параметры по умолчанию)"
   ]
  },
  {
   "cell_type": "code",
   "execution_count": 20,
   "metadata": {},
   "outputs": [],
   "source": [
    "clf_DT = DecisionTreeClassifier(class_weight='balanced', random_state=12345)"
   ]
  },
  {
   "cell_type": "markdown",
   "metadata": {},
   "source": [
    "### 4.3 на оригинальном сете"
   ]
  },
  {
   "cell_type": "code",
   "execution_count": 21,
   "metadata": {},
   "outputs": [
    {
     "name": "stdout",
     "output_type": "stream",
     "text": [
      "CPU times: user 2min 14s, sys: 705 ms, total: 2min 14s\n",
      "Wall time: 2min 27s\n"
     ]
    }
   ],
   "source": [
    "%%time\n",
    "scores_4_3 = cross_val_score(clf_DT, X_train_bl, y_train_bl, cv=3, scoring='f1_weighted')"
   ]
  },
  {
   "cell_type": "code",
   "execution_count": 22,
   "metadata": {},
   "outputs": [
    {
     "data": {
      "text/plain": [
       "0.6864707929900252"
      ]
     },
     "execution_count": 22,
     "metadata": {},
     "output_type": "execute_result"
    }
   ],
   "source": [
    "np.mean(scores_4_3)"
   ]
  },
  {
   "attachments": {
    "b1ff6295-9972-40e2-b66b-f599183ccabf.png": {
     "image/png": "[encoded data removed]"
    }
   },
   "cell_type": "markdown",
   "metadata": {},
   "source": [
    "![image.png](attachment:b1ff6295-9972-40e2-b66b-f599183ccabf.png)"
   ]
  },
  {
   "cell_type": "markdown",
   "metadata": {},
   "source": [
    "### 4.4 на токенизированном сете "
   ]
  },
  {
   "cell_type": "code",
   "execution_count": null,
   "metadata": {},
   "outputs": [],
   "source": [
    "scores_4_4 = cross_val_score(clf_DT, X_train_tokin, y_train_tokin, cv=8, scoring='f1_weighted')"
   ]
  },
  {
   "cell_type": "code",
   "execution_count": null,
   "metadata": {},
   "outputs": [],
   "source": [
    "np.mean(scores_4_4)"
   ]
  },
  {
   "cell_type": "markdown",
   "metadata": {},
   "source": [
    "### 4.4 на токенизированном сете "
   ]
  },
  {
   "cell_type": "code",
   "execution_count": 23,
   "metadata": {},
   "outputs": [
    {
     "name": "stdout",
     "output_type": "stream",
     "text": [
      "CPU times: user 2min 14s, sys: 390 ms, total: 2min 15s\n",
      "Wall time: 2min 15s\n"
     ]
    }
   ],
   "source": [
    "%%time\n",
    "scores_4_4 = cross_val_score(clf_DT, X_train_tokin, y_train_tokin, cv=3, scoring='f1_weighted')"
   ]
  },
  {
   "cell_type": "code",
   "execution_count": 33,
   "metadata": {},
   "outputs": [
    {
     "data": {
      "text/plain": [
       "0.6774625968667173"
      ]
     },
     "execution_count": 33,
     "metadata": {},
     "output_type": "execute_result"
    }
   ],
   "source": [
    "np.mean(scores_4_4)"
   ]
  },
  {
   "attachments": {
    "615775d1-8e11-46a4-8f67-d9b3f30aad97.png": {
     "image/png": "[encoded data removed]"
    }
   },
   "cell_type": "markdown",
   "metadata": {},
   "source": [
    "![image.png](attachment:615775d1-8e11-46a4-8f67-d9b3f30aad97.png)"
   ]
  },
  {
   "cell_type": "markdown",
   "metadata": {},
   "source": [
    "## 6 Ближайшие соседи (параметры по умолчанию)"
   ]
  },
  {
   "cell_type": "code",
   "execution_count": 25,
   "metadata": {},
   "outputs": [],
   "source": [
    "clf_KNC = KNeighborsClassifier()"
   ]
  },
  {
   "cell_type": "markdown",
   "metadata": {},
   "source": [
    "### 4.5 на оригинальном сете"
   ]
  },
  {
   "cell_type": "code",
   "execution_count": 26,
   "metadata": {},
   "outputs": [
    {
     "name": "stdout",
     "output_type": "stream",
     "text": [
      "CPU times: user 34.4 s, sys: 24 s, total: 58.4 s\n",
      "Wall time: 1min 3s\n"
     ]
    }
   ],
   "source": [
    "%%time\n",
    "scores_4_5 = cross_val_score(clf_KNC, X_train_bl, y_train_bl, cv=3, scoring='f1_weighted')"
   ]
  },
  {
   "cell_type": "code",
   "execution_count": 27,
   "metadata": {},
   "outputs": [
    {
     "data": {
      "text/plain": [
       "0.3959484541572856"
      ]
     },
     "execution_count": 27,
     "metadata": {},
     "output_type": "execute_result"
    }
   ],
   "source": [
    "np.mean(scores_4_5)"
   ]
  },
  {
   "attachments": {
    "3fe08a62-41ce-4c20-9669-c88b8984349a.png": {
     "image/png": "[encoded data removed]"
    }
   },
   "cell_type": "markdown",
   "metadata": {},
   "source": [
    "![image.png](attachment:3fe08a62-41ce-4c20-9669-c88b8984349a.png)"
   ]
  },
  {
   "cell_type": "markdown",
   "metadata": {},
   "source": [
    "### 4.6 на токенизированном сете "
   ]
  },
  {
   "cell_type": "code",
   "execution_count": 28,
   "metadata": {},
   "outputs": [
    {
     "name": "stdout",
     "output_type": "stream",
     "text": [
      "CPU times: user 27.3 s, sys: 18.8 s, total: 46.1 s\n",
      "Wall time: 49.2 s\n"
     ]
    }
   ],
   "source": [
    "%%time\n",
    "scores_4_6 = cross_val_score(clf_KNC, X_train_tokin, y_train_tokin, cv=3, scoring='f1_weighted')"
   ]
  },
  {
   "cell_type": "code",
   "execution_count": 29,
   "metadata": {},
   "outputs": [
    {
     "data": {
      "text/plain": [
       "0.5638394624322937"
      ]
     },
     "execution_count": 29,
     "metadata": {},
     "output_type": "execute_result"
    }
   ],
   "source": [
    "np.mean(scores_4_6)"
   ]
  },
  {
   "attachments": {
    "71564c6b-7087-4fbf-af89-dc296d4f0ab4.png": {
     "image/png": "[encoded data removed]"
    }
   },
   "cell_type": "markdown",
   "metadata": {},
   "source": [
    "![image.png](attachment:71564c6b-7087-4fbf-af89-dc296d4f0ab4.png)"
   ]
  },
  {
   "cell_type": "markdown",
   "metadata": {},
   "source": [
    "## 7 GradientBoostingClassifier (параметры по умолчанию)"
   ]
  },
  {
   "cell_type": "code",
   "execution_count": 30,
   "metadata": {},
   "outputs": [],
   "source": [
    "clf_GBC = GradientBoostingClassifier(random_state=12345)"
   ]
  },
  {
   "cell_type": "markdown",
   "metadata": {},
   "source": [
    "### 4.7 на оригинальном сете"
   ]
  },
  {
   "cell_type": "code",
   "execution_count": 34,
   "metadata": {},
   "outputs": [],
   "source": [
    "# %%time\n",
    "# scores_4_7 = cross_val_score(clf_GBC, X_train_bl, y_train_bl, cv=3, scoring='f1_weighted')"
   ]
  },
  {
   "cell_type": "code",
   "execution_count": 36,
   "metadata": {},
   "outputs": [],
   "source": [
    "# np.mean(scores_4_7)"
   ]
  },
  {
   "cell_type": "markdown",
   "metadata": {},
   "source": [
    "### 4.8 на токенизированном сете "
   ]
  },
  {
   "cell_type": "code",
   "execution_count": null,
   "metadata": {},
   "outputs": [],
   "source": [
    "%%time\n",
    "scores_4_8 = cross_val_score(clf_GBC, X_train_tokin, y_train_tokin, cv=3, scoring='f1_weighted')"
   ]
  },
  {
   "cell_type": "code",
   "execution_count": null,
   "metadata": {},
   "outputs": [],
   "source": [
    "np.mean(scores_4_8)"
   ]
  },
  {
   "cell_type": "code",
   "execution_count": null,
   "metadata": {},
   "outputs": [],
   "source": []
  },
  {
   "cell_type": "code",
   "execution_count": null,
   "metadata": {},
   "outputs": [],
   "source": []
  },
  {
   "cell_type": "code",
   "execution_count": null,
   "metadata": {},
   "outputs": [],
   "source": []
  },
  {
   "cell_type": "markdown",
   "metadata": {},
   "source": [
    "# РЕЗУЛЬТАТЫ  - только история"
   ]
  },
  {
   "cell_type": "markdown",
   "metadata": {},
   "source": [
    "# LogisticRegression"
   ]
  },
  {
   "cell_type": "markdown",
   "metadata": {},
   "source": [
    "**1.1_\n",
    "TfidfVectorizer (unique)**"
   ]
  },
  {
   "cell_type": "code",
   "execution_count": null,
   "metadata": {},
   "outputs": [],
   "source": [
    "# %%time\n",
    "# clf_1_2 = LogisticRegression(max_iter=400, class_weight='balanced', random_state=12345)\n",
    "# scores = cross_val_score(clf, X_train_unique, y_train_unique, cv=3, scoring='f1_weighted')"
   ]
  },
  {
   "attachments": {
    "6d9b6fe1-812b-4b7e-b730-dcf56a704115.png": {
     "image/png": "[encoded data removed]"
    }
   },
   "cell_type": "markdown",
   "metadata": {},
   "source": [
    "![image.png](attachment:6d9b6fe1-812b-4b7e-b730-dcf56a704115.png)"
   ]
  },
  {
   "cell_type": "markdown",
   "metadata": {},
   "source": [
    "**1_2 расчет baseline - TfidfVectorizer (train_short_origin) - исходный сет**"
   ]
  },
  {
   "cell_type": "code",
   "execution_count": null,
   "metadata": {},
   "outputs": [],
   "source": [
    "# %%time\n",
    "# clf_1_2 = LogisticRegression(max_iter=400, class_weight='balanced', random_state=12345)\n",
    "# scores = cross_val_score(clf, X_train_bl, y_train_bl, cv=3, scoring='f1_weighted')"
   ]
  },
  {
   "attachments": {
    "79752d48-c7e7-4710-955e-8521b5306a3e.png": {
     "image/png": "[encoded data removed]"
    }
   },
   "cell_type": "markdown",
   "metadata": {},
   "source": [
    "![image.png](attachment:79752d48-c7e7-4710-955e-8521b5306a3e.png)"
   ]
  },
  {
   "cell_type": "markdown",
   "metadata": {},
   "source": [
    "**1_3 TfidfVectorizer (train_short)**"
   ]
  },
  {
   "cell_type": "code",
   "execution_count": null,
   "metadata": {},
   "outputs": [],
   "source": [
    "# %%time\n",
    "# clf_1_3 = LogisticRegression(max_iter=400, class_weight='balanced', random_state=12345)\n",
    "# scores = cross_val_score(clf, X_train_clean, y_train_clean, cv=3, scoring='f1_weighted')"
   ]
  },
  {
   "attachments": {
    "bd7e90ad-5659-4034-84ea-df0ffd50be96.png": {
     "image/png": "[encoded data removed]"
    }
   },
   "cell_type": "markdown",
   "metadata": {},
   "source": [
    "![image.png](attachment:bd7e90ad-5659-4034-84ea-df0ffd50be96.png)"
   ]
  },
  {
   "cell_type": "markdown",
   "metadata": {},
   "source": [
    "# LinearSVC"
   ]
  },
  {
   "cell_type": "markdown",
   "metadata": {},
   "source": [
    "**2_1 TfidfVectorizer (unique)**"
   ]
  },
  {
   "cell_type": "code",
   "execution_count": null,
   "metadata": {},
   "outputs": [],
   "source": [
    "# %%time\n",
    "# clf = LinearSVC(max_iter=400, class_weight='balanced', random_state=12345)\n",
    "# scores = cross_val_score(clf, X_train_unique, y_train_unique, cv=8, scoring='f1_weighted')"
   ]
  },
  {
   "attachments": {
    "84ebb840-3453-4885-b43f-6c729bcde9d2.png": {
     "image/png": "[encoded data removed]"
    }
   },
   "cell_type": "markdown",
   "metadata": {},
   "source": [
    "![image.png](attachment:84ebb840-3453-4885-b43f-6c729bcde9d2.png)"
   ]
  },
  {
   "cell_type": "markdown",
   "metadata": {},
   "source": [
    "**2_2 расчет baseline - TfidfVectorizer (train_short_origin) - исходный сет**"
   ]
  },
  {
   "cell_type": "code",
   "execution_count": null,
   "metadata": {},
   "outputs": [],
   "source": [
    "# %%time\n",
    "# clf_2_2 = LinearSVC(max_iter=400, class_weight='balanced', random_state=12345)\n",
    "# scores = cross_val_score(clf, X_train_bl, y_train_bl, cv=8, scoring='f1_weighted')"
   ]
  },
  {
   "attachments": {
    "b914d0a4-0c46-4ca8-a675-252c9f85b607.png": {
     "image/png": "[encoded data removed]"
    }
   },
   "cell_type": "markdown",
   "metadata": {},
   "source": [
    "![image.png](attachment:b914d0a4-0c46-4ca8-a675-252c9f85b607.png)"
   ]
  },
  {
   "cell_type": "markdown",
   "metadata": {},
   "source": [
    "**2_3 TfidfVectorizer (train_short)**"
   ]
  },
  {
   "cell_type": "code",
   "execution_count": null,
   "metadata": {},
   "outputs": [],
   "source": [
    "# %%time\n",
    "# clf_2_3 = LinearSVC(max_iter=400, class_weight='balanced', random_state=12345)\n",
    "# scores = cross_val_score(clf, X_train_clean, y_train_clean, cv=8, scoring='f1_weighted')"
   ]
  },
  {
   "attachments": {
    "91801d82-8cac-46ac-89bb-2bf1016baffc.png": {
     "image/png": "[encoded data removed]"
    }
   },
   "cell_type": "markdown",
   "metadata": {},
   "source": [
    "![image.png](attachment:91801d82-8cac-46ac-89bb-2bf1016baffc.png)"
   ]
  },
  {
   "cell_type": "markdown",
   "metadata": {},
   "source": [
    "# LinearSVC"
   ]
  },
  {
   "cell_type": "markdown",
   "metadata": {},
   "source": [
    "**3_1 TfidfVectorizer (train_short) - только токинайзинг - нормальные формы слов не извлекались**"
   ]
  },
  {
   "cell_type": "code",
   "execution_count": null,
   "metadata": {},
   "outputs": [],
   "source": [
    "# %%time\n",
    "# clf_3_1 = LinearSVC(max_iter=400, class_weight='balanced', random_state=12345)\n",
    "# scores = cross_val_score(clf, X_train_tokin, y_train_tokin, cv=8, scoring='f1_weighted')"
   ]
  },
  {
   "attachments": {
    "0c46e15e-48ee-43da-a5cf-7f8a263686b6.png": {
     "image/png": "[encoded data removed]"
    }
   },
   "cell_type": "markdown",
   "metadata": {},
   "source": [
    "![image.png](attachment:0c46e15e-48ee-43da-a5cf-7f8a263686b6.png)"
   ]
  },
  {
   "cell_type": "code",
   "execution_count": null,
   "metadata": {},
   "outputs": [],
   "source": []
  }
 ],
 "metadata": {
  "kernelspec": {
   "display_name": "Python 3",
   "language": "python",
   "name": "python3"
  },
  "language_info": {
   "codemirror_mode": {
    "name": "ipython",
    "version": 3
   },
   "file_extension": ".py",
   "mimetype": "text/x-python",
   "name": "python",
   "nbconvert_exporter": "python",
   "pygments_lexer": "ipython3",
   "version": "3.8.3"
  }
 },
 "nbformat": 4,
 "nbformat_minor": 4
}
